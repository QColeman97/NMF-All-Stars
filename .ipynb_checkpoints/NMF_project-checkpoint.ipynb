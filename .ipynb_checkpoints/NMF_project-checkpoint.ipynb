{
 "cells": [
  {
   "cell_type": "code",
   "execution_count": 50,
   "metadata": {},
   "outputs": [
    {
     "name": "stdout",
     "output_type": "stream",
     "text": [
      "column pclass conatins a non-numeric value 1\n",
      "column survived conatins a non-numeric value 1\n",
      "column age conatins a non-numeric value 29.0\n",
      "column sibsp conatins a non-numeric value 0\n",
      "column parch conatins a non-numeric value 0\n",
      "column ticket conatins a non-numeric value 24160\n",
      "column fare conatins a non-numeric value 211.3375\n",
      "column cabin conatins a non-numeric value B5\n",
      "column embarked conatins a non-numeric value S\n",
      "column body conatins a non-numeric value nan\n",
      "column home.dest conatins a non-numeric value St Louis, MO\n",
      "column female conatins a non-numeric value 1\n",
      "column male conatins a non-numeric value 0\n",
      "column 1 conatins a non-numeric value 0\n",
      "column 10 conatins a non-numeric value 0\n",
      "column 11 conatins a non-numeric value 0\n",
      "column 12 conatins a non-numeric value 0\n",
      "column 13 conatins a non-numeric value 0\n",
      "column 13 15 conatins a non-numeric value 0\n",
      "column 13 15 B conatins a non-numeric value 0\n",
      "column 14 conatins a non-numeric value 0\n",
      "column 15 conatins a non-numeric value 0\n",
      "column 15 16 conatins a non-numeric value 0\n",
      "column 16 conatins a non-numeric value 0\n",
      "column 2 conatins a non-numeric value 1\n",
      "column 3 conatins a non-numeric value 0\n",
      "column 4 conatins a non-numeric value 0\n",
      "column 5 conatins a non-numeric value 0\n",
      "column 5 7 conatins a non-numeric value 0\n",
      "column 5 9 conatins a non-numeric value 0\n",
      "column 6 conatins a non-numeric value 0\n",
      "column 7 conatins a non-numeric value 0\n",
      "column 8 conatins a non-numeric value 0\n",
      "column 8 10 conatins a non-numeric value 0\n",
      "column 9 conatins a non-numeric value 0\n",
      "column A conatins a non-numeric value 0\n",
      "column B conatins a non-numeric value 0\n",
      "column C conatins a non-numeric value 0\n",
      "column C D conatins a non-numeric value 0\n",
      "column D conatins a non-numeric value 0\n",
      "column No boat conatins a non-numeric value 0\n"
     ]
    }
   ],
   "source": [
    "import pandas as pd\n",
    "import numpy as np\n",
    "titanic_df = pd.read_csv(\n",
    "    \"https://raw.githubusercontent.com/dlsun/data-science-book/master/data/titanic.csv\"\n",
    ")\n",
    "titanic_df = titanic_df.drop(\"name\", axis=1)\n",
    "\n",
    "# catagorical to quantitative\n",
    "\n",
    "# gender\n",
    "gender_catagories = pd.DataFrame(pd.get_dummies(titanic_df[\"sex\"]))\n",
    "titanic_df = titanic_df.drop(\"sex\", axis = 1)\n",
    "titanic_df= pd.concat([titanic_df, gender_catagories], axis = 1)\n",
    "   \n",
    "# boat\n",
    "titanic_df[\"boat\"] = titanic_df[\"boat\"].fillna(value=\"No boat\")\n",
    "boat_catagories = pd.DataFrame(pd.get_dummies(titanic_df[\"boat\"]))\n",
    "titanic_df = titanic_df.drop(\"boat\", axis = 1)\n",
    "titanic_df= pd.concat([titanic_df, boat_catagories], axis = 1)\n",
    "\n",
    "for col in titanic_df.columns:\n",
    "    for element in titanic_df[col].unique():\n",
    "        if isdigit(element) != float and type(element) != int:\n",
    "            print(\"column \" + str(col) + \" conatins a non-numeric value \" + str(element))\n",
    "            break"
   ]
  },
  {
   "cell_type": "code",
   "execution_count": null,
   "metadata": {},
   "outputs": [],
   "source": []
  }
 ],
 "metadata": {
  "kernelspec": {
   "display_name": "Python 3",
   "language": "python",
   "name": "python3"
  },
  "language_info": {
   "codemirror_mode": {
    "name": "ipython",
    "version": 3
   },
   "file_extension": ".py",
   "mimetype": "text/x-python",
   "name": "python",
   "nbconvert_exporter": "python",
   "pygments_lexer": "ipython3",
   "version": "3.7.3"
  }
 },
 "nbformat": 4,
 "nbformat_minor": 4
}
