{
 "cells": [
  {
   "cell_type": "markdown",
   "metadata": {},
   "source": [
    "## SKlearn NFM\n",
    "\n",
    "#### Lets run SKLearn's NMF algorithm on a small 2d sample array"
   ]
  },
  {
   "cell_type": "code",
   "execution_count": 1,
   "metadata": {},
   "outputs": [],
   "source": [
    "import numpy as np\n",
    "import pandas as pd\n",
    "from sklearn.decomposition import NMF\n",
    "from sklearn.metrics import mean_squared_error"
   ]
  },
  {
   "cell_type": "code",
   "execution_count": 2,
   "metadata": {},
   "outputs": [
    {
     "name": "stdout",
     "output_type": "stream",
     "text": [
      "Input matrix of N x N w/ values (1-10)\n"
     ]
    }
   ],
   "source": [
    "print(\"Input matrix of N x N w/ values (1-10)\")\n",
    "def generateV(N=25):\n",
    "    return 10 * np.random.random_sample((N, N))\n",
    "X = generateV()"
   ]
  },
  {
   "cell_type": "code",
   "execution_count": 3,
   "metadata": {},
   "outputs": [],
   "source": [
    "from sklearn.decomposition import PCA\n",
    "from scipy.stats import pearsonr\n",
    "from sklearn.preprocessing import normalize\n",
    "\n",
    "V = generateV()\n",
    "\n",
    "def my_nmf(input_df, n_components, learn_iter=200):\n",
    "    input_matrix = input_df.to_numpy().T\n",
    "    \n",
    "#     print('Input Matrix Shape:\\n', input_matrix.shape)\n",
    "#     print('n comp:', n_components)\n",
    "    \n",
    "    activations = np.random.rand(n_components, input_matrix.shape[1])\n",
    "#     np.random.rand(3,2)\n",
    "    basis_vectors = np.random.rand(input_matrix.shape[0], n_components)\n",
    "    ones = np.ones(input_matrix.shape)\n",
    "    \n",
    "    basis_vectors = normalize(basis_vectors)\n",
    "    \n",
    "#     print('Activations:\\n', activations)\n",
    "#     print('Basis Vectors:\\n', basis_vectors)\n",
    "#     print('Ones:\\n', ones)\n",
    "    \n",
    "    for _ in range(learn_iter):\n",
    "        activations *= ((basis_vectors.T @ (input_matrix / (basis_vectors @ activations))) / (basis_vectors.T @ ones))\n",
    "        basis_vectors *= (((input_matrix / (basis_vectors @ activations)) @ activations.T) / (ones @ activations.T))\n",
    "        \n",
    "        # TODO - normalize basis vectors after each update\n",
    "        basis_vectors = normalize(basis_vectors)\n",
    "    \n",
    "    \n",
    "#     print('Activations:\\n', activations)\n",
    "#     print('Basis Vectors:\\n', basis_vectors)\n",
    "\n",
    "#     basis_vecs = pd.DataFrame(basis_vectors.T, columns=list(input_df.columns))\n",
    "#     trans_vals = pd.DataFrame(activations.T, columns=[('PC' + str(i + 1)) for i in range(n_components)])\n",
    "    \n",
    "#     return basis_vecs, trans_vals\n",
    "    return basis_vectors.T, activations.T"
   ]
  },
  {
   "cell_type": "code",
   "execution_count": 7,
   "metadata": {},
   "outputs": [],
   "source": [
    "def correlate(nmf_i, pca_i):\n",
    "    return pearsonr(nmf_i, pca_i)[0]"
   ]
  },
  {
   "cell_type": "code",
   "execution_count": 51,
   "metadata": {},
   "outputs": [
    {
     "name": "stderr",
     "output_type": "stream",
     "text": [
      "C:\\ProgramData\\Anaconda3\\lib\\site-packages\\sklearn\\decomposition\\nmf.py:1069: ConvergenceWarning: Maximum number of iteration 200 reached. Increase it to improve convergence.\n",
      "  \" improve convergence.\" % max_iter, ConvergenceWarning)\n",
      "C:\\ProgramData\\Anaconda3\\lib\\site-packages\\sklearn\\decomposition\\nmf.py:1069: ConvergenceWarning: Maximum number of iteration 200 reached. Increase it to improve convergence.\n",
      "  \" improve convergence.\" % max_iter, ConvergenceWarning)\n",
      "C:\\ProgramData\\Anaconda3\\lib\\site-packages\\sklearn\\decomposition\\nmf.py:1069: ConvergenceWarning: Maximum number of iteration 200 reached. Increase it to improve convergence.\n",
      "  \" improve convergence.\" % max_iter, ConvergenceWarning)\n",
      "C:\\ProgramData\\Anaconda3\\lib\\site-packages\\sklearn\\decomposition\\nmf.py:1069: ConvergenceWarning: Maximum number of iteration 200 reached. Increase it to improve convergence.\n",
      "  \" improve convergence.\" % max_iter, ConvergenceWarning)\n",
      "C:\\ProgramData\\Anaconda3\\lib\\site-packages\\sklearn\\decomposition\\nmf.py:1069: ConvergenceWarning: Maximum number of iteration 200 reached. Increase it to improve convergence.\n",
      "  \" improve convergence.\" % max_iter, ConvergenceWarning)\n",
      "C:\\ProgramData\\Anaconda3\\lib\\site-packages\\sklearn\\decomposition\\nmf.py:1069: ConvergenceWarning: Maximum number of iteration 200 reached. Increase it to improve convergence.\n",
      "  \" improve convergence.\" % max_iter, ConvergenceWarning)\n",
      "C:\\ProgramData\\Anaconda3\\lib\\site-packages\\sklearn\\decomposition\\nmf.py:1069: ConvergenceWarning: Maximum number of iteration 200 reached. Increase it to improve convergence.\n",
      "  \" improve convergence.\" % max_iter, ConvergenceWarning)\n",
      "C:\\ProgramData\\Anaconda3\\lib\\site-packages\\sklearn\\decomposition\\nmf.py:1069: ConvergenceWarning: Maximum number of iteration 200 reached. Increase it to improve convergence.\n",
      "  \" improve convergence.\" % max_iter, ConvergenceWarning)\n",
      "C:\\ProgramData\\Anaconda3\\lib\\site-packages\\sklearn\\decomposition\\nmf.py:1069: ConvergenceWarning: Maximum number of iteration 200 reached. Increase it to improve convergence.\n",
      "  \" improve convergence.\" % max_iter, ConvergenceWarning)\n",
      "C:\\ProgramData\\Anaconda3\\lib\\site-packages\\sklearn\\decomposition\\nmf.py:1069: ConvergenceWarning: Maximum number of iteration 200 reached. Increase it to improve convergence.\n",
      "  \" improve convergence.\" % max_iter, ConvergenceWarning)\n",
      "C:\\ProgramData\\Anaconda3\\lib\\site-packages\\sklearn\\decomposition\\nmf.py:1069: ConvergenceWarning: Maximum number of iteration 200 reached. Increase it to improve convergence.\n",
      "  \" improve convergence.\" % max_iter, ConvergenceWarning)\n",
      "C:\\ProgramData\\Anaconda3\\lib\\site-packages\\sklearn\\decomposition\\nmf.py:1069: ConvergenceWarning: Maximum number of iteration 200 reached. Increase it to improve convergence.\n",
      "  \" improve convergence.\" % max_iter, ConvergenceWarning)\n",
      "C:\\ProgramData\\Anaconda3\\lib\\site-packages\\sklearn\\decomposition\\nmf.py:1069: ConvergenceWarning: Maximum number of iteration 200 reached. Increase it to improve convergence.\n",
      "  \" improve convergence.\" % max_iter, ConvergenceWarning)\n",
      "C:\\ProgramData\\Anaconda3\\lib\\site-packages\\sklearn\\decomposition\\nmf.py:1069: ConvergenceWarning: Maximum number of iteration 200 reached. Increase it to improve convergence.\n",
      "  \" improve convergence.\" % max_iter, ConvergenceWarning)\n",
      "C:\\ProgramData\\Anaconda3\\lib\\site-packages\\sklearn\\decomposition\\nmf.py:1069: ConvergenceWarning: Maximum number of iteration 200 reached. Increase it to improve convergence.\n",
      "  \" improve convergence.\" % max_iter, ConvergenceWarning)\n",
      "C:\\ProgramData\\Anaconda3\\lib\\site-packages\\sklearn\\decomposition\\nmf.py:1069: ConvergenceWarning: Maximum number of iteration 200 reached. Increase it to improve convergence.\n",
      "  \" improve convergence.\" % max_iter, ConvergenceWarning)\n",
      "C:\\ProgramData\\Anaconda3\\lib\\site-packages\\sklearn\\decomposition\\nmf.py:1069: ConvergenceWarning: Maximum number of iteration 200 reached. Increase it to improve convergence.\n",
      "  \" improve convergence.\" % max_iter, ConvergenceWarning)\n",
      "C:\\ProgramData\\Anaconda3\\lib\\site-packages\\sklearn\\decomposition\\nmf.py:1069: ConvergenceWarning: Maximum number of iteration 200 reached. Increase it to improve convergence.\n",
      "  \" improve convergence.\" % max_iter, ConvergenceWarning)\n",
      "C:\\ProgramData\\Anaconda3\\lib\\site-packages\\sklearn\\decomposition\\nmf.py:1069: ConvergenceWarning: Maximum number of iteration 200 reached. Increase it to improve convergence.\n",
      "  \" improve convergence.\" % max_iter, ConvergenceWarning)\n",
      "C:\\ProgramData\\Anaconda3\\lib\\site-packages\\sklearn\\decomposition\\nmf.py:1069: ConvergenceWarning: Maximum number of iteration 200 reached. Increase it to improve convergence.\n",
      "  \" improve convergence.\" % max_iter, ConvergenceWarning)\n",
      "C:\\ProgramData\\Anaconda3\\lib\\site-packages\\sklearn\\decomposition\\nmf.py:1069: ConvergenceWarning: Maximum number of iteration 200 reached. Increase it to improve convergence.\n",
      "  \" improve convergence.\" % max_iter, ConvergenceWarning)\n",
      "C:\\ProgramData\\Anaconda3\\lib\\site-packages\\sklearn\\decomposition\\nmf.py:1069: ConvergenceWarning: Maximum number of iteration 200 reached. Increase it to improve convergence.\n",
      "  \" improve convergence.\" % max_iter, ConvergenceWarning)\n"
     ]
    }
   ],
   "source": [
    "N = X.shape[1]\n",
    "err_outs = []\n",
    "sk_errs = []\n",
    "my_errs = []\n",
    "\n",
    "for i in range(N - 1, 2, -1): # inclusive range to N\n",
    "    skl_nmf = NMF(n_components=i, init='random', solver='mu', beta_loss='kullback-leibler')\n",
    "    sh = skl_nmf.fit_transform(X)\n",
    "    sw = skl_nmf.components_\n",
    "    sv = np.matmul(sw.transpose(), sh.transpose())\n",
    "    \n",
    "    mw, mh = my_nmf(pd.DataFrame(X), i)\n",
    "    mv = np.matmul(mw.transpose(), mh.transpose())\n",
    "    err_corr = 0\n",
    "    err_my = 0\n",
    "    err_sk = 0\n",
    "    cnt = 0.0\n",
    "    for k in range(len(mv[0])):\n",
    "        err_sk += mean_squared_error(sv[k], X[k])\n",
    "        err_my += mean_squared_error(mv[k], X[k])\n",
    "        err_corr += correlate(mv[k], sv[k])\n",
    "        cnt += 1\n",
    "    err_outs.append(err_corr / cnt)\n",
    "    sk_errs.append(err_sk / cnt)\n",
    "    my_errs.append(err_my / cnt)"
   ]
  },
  {
   "cell_type": "markdown",
   "metadata": {},
   "source": [
    "#### Here is our mean_squared_error for modifying n_components in SKLearn's NMF Algorithm"
   ]
  },
  {
   "cell_type": "code",
   "execution_count": 52,
   "metadata": {},
   "outputs": [
    {
     "data": {
      "text/html": [
       "<div>\n",
       "<style scoped>\n",
       "    .dataframe tbody tr th:only-of-type {\n",
       "        vertical-align: middle;\n",
       "    }\n",
       "\n",
       "    .dataframe tbody tr th {\n",
       "        vertical-align: top;\n",
       "    }\n",
       "\n",
       "    .dataframe thead th {\n",
       "        text-align: right;\n",
       "    }\n",
       "</style>\n",
       "<table border=\"1\" class=\"dataframe\">\n",
       "  <thead>\n",
       "    <tr style=\"text-align: right;\">\n",
       "      <th></th>\n",
       "      <th>0</th>\n",
       "    </tr>\n",
       "  </thead>\n",
       "  <tbody>\n",
       "    <tr>\n",
       "      <td>count</td>\n",
       "      <td>22.000000</td>\n",
       "    </tr>\n",
       "    <tr>\n",
       "      <td>mean</td>\n",
       "      <td>0.882164</td>\n",
       "    </tr>\n",
       "    <tr>\n",
       "      <td>std</td>\n",
       "      <td>0.079463</td>\n",
       "    </tr>\n",
       "    <tr>\n",
       "      <td>min</td>\n",
       "      <td>0.712701</td>\n",
       "    </tr>\n",
       "    <tr>\n",
       "      <td>25%</td>\n",
       "      <td>0.835847</td>\n",
       "    </tr>\n",
       "    <tr>\n",
       "      <td>50%</td>\n",
       "      <td>0.899496</td>\n",
       "    </tr>\n",
       "    <tr>\n",
       "      <td>75%</td>\n",
       "      <td>0.950308</td>\n",
       "    </tr>\n",
       "    <tr>\n",
       "      <td>max</td>\n",
       "      <td>0.984635</td>\n",
       "    </tr>\n",
       "  </tbody>\n",
       "</table>\n",
       "</div>"
      ],
      "text/plain": [
       "               0\n",
       "count  22.000000\n",
       "mean    0.882164\n",
       "std     0.079463\n",
       "min     0.712701\n",
       "25%     0.835847\n",
       "50%     0.899496\n",
       "75%     0.950308\n",
       "max     0.984635"
      ]
     },
     "metadata": {},
     "output_type": "display_data"
    },
    {
     "data": {
      "text/plain": [
       "<matplotlib.axes._subplots.AxesSubplot at 0x25209a9bd48>"
      ]
     },
     "execution_count": 52,
     "metadata": {},
     "output_type": "execute_result"
    },
    {
     "data": {
      "image/png": "[encoded data removed]",
      "text/plain": [
       "<Figure size 432x288 with 1 Axes>"
      ]
     },
     "metadata": {
      "needs_background": "light"
     },
     "output_type": "display_data"
    },
    {
     "data": {
      "image/png": "[encoded data removed]",
      "text/plain": [
       "<Figure size 432x288 with 1 Axes>"
      ]
     },
     "metadata": {
      "needs_background": "light"
     },
     "output_type": "display_data"
    }
   ],
   "source": [
    "errs_total = pd.DataFrame([sk_errs, my_errs]).transpose()\n",
    "errs_total.columns = ['SKlearn\\'s NMF', 'Our NMF']\n",
    "display(pd.DataFrame(err_outs).describe())\n",
    "pd.Series(err_outs).plot(title=\"Corrlation between our NMF and SKlearn's NMF aprox. @ dimenionality reduction to x\")\n",
    "errs_total.plot(title=\"SKlearn's NMF and our NMF errors at approximating original input V\")"
   ]
  },
  {
   "cell_type": "code",
   "execution_count": 33,
   "metadata": {},
   "outputs": [
    {
     "name": "stdout",
     "output_type": "stream",
     "text": [
      "Shape of actual V is (25, 25)\n",
      "Shape of new V is (25, 25)\n"
     ]
    }
   ],
   "source": [
    "av = generateV()\n",
    "w, h = my_nmf(pd.DataFrame(av), 2)\n",
    "nv = np.matmul(w.transpose(),h.transpose())\n",
    "print(\"Shape of actual V is {}\".format(av.shape))\n",
    "print(\"Shape of new V is {}\".format(nv.shape))"
   ]
  },
  {
   "cell_type": "markdown",
   "metadata": {},
   "source": [
    "# Testing Accuracy with NMF:"
   ]
  },
  {
   "cell_type": "markdown",
   "metadata": {},
   "source": [
    "## Comparing to PCA"
   ]
  },
  {
   "cell_type": "markdown",
   "metadata": {},
   "source": [
    "<img src=\"screenshots/compare_pca.jpg\" alt=\"Drawing\" style=\"width: 1000px;\"/>"
   ]
  },
  {
   "cell_type": "markdown",
   "metadata": {},
   "source": [
    "We need some way to compare nmf and pca at dimensions higher when reducing to dimensions higher than two. One way to do this is to use a pearson correlation test between pairs of basis vectors from NMF and PCA respectively.  \n",
    "\n",
    "Below highlights the usgage of scipys pearsonr function which we use to calculate Pearson's correlation coefficient from our nmf and pca basis vectors."
   ]
  },
  {
   "cell_type": "code",
   "execution_count": null,
   "metadata": {},
   "outputs": [],
   "source": [
    "x = [1,2,3,4,5,6,7,8,9,10]\n",
    "y = [2,4,6,8,10,12,14,16,18,20]\n",
    "print(\"Pearson's correlation coefficient = {}\".format(((pearsonr(x,y)[0] + pearsonr(y,x) )/ 2)[0]))"
   ]
  },
  {
   "cell_type": "markdown",
   "metadata": {},
   "source": [
    "Averaging all possible pairs Pearson correlation coefficient"
   ]
  },
  {
   "cell_type": "code",
   "execution_count": null,
   "metadata": {},
   "outputs": [],
   "source": [
    "display(PCA(n_components=2).fit_transform(V).transpose())"
   ]
  },
  {
   "cell_type": "code",
   "execution_count": null,
   "metadata": {},
   "outputs": [],
   "source": [
    "# TODO need NMF model function\n",
    "def compareNMFtoPCA(V):\n",
    "    Vn = np.array(V)\n",
    "    F = len(V[0]) # feature count\n",
    "    pair_matrices = []\n",
    "    df = []\n",
    "    for i in range(F,1,-1):\n",
    "        # p = PCA(n_components=i).fit_transform(Vn).transpose()\n",
    "        p = PCA(n_components=i).fit(Vn).components_\n",
    "        pairs = [[0]*i]*i \n",
    "        w, h = my_nmf(pd.DataFrame(V), i)\n",
    "        # w = w\n",
    "        sum = 0.0        \n",
    "        for nmf_i in range(i):\n",
    "            for pca_i in range(i):\n",
    "                sum += correlate(w[nmf_i], p[pca_i])\n",
    "                # print(\"{}\".format(correlate(h[nmf_i], p[pca_i])))\n",
    "                pairs[nmf_i][pca_i] = correlate(w[nmf_i], p[pca_i])\n",
    "        # print (\"Total AVG Correlation @{} = {}\".format(i, (sum / cnt)))\n",
    "        df.append([(sum / i)])\n",
    "        pair_matrices.append(pairs)\n",
    "            \n",
    "    return pd.DataFrame(df, columns=[\"Correlation\"]), pair_matrices\n",
    "        \n",
    "l_p_vals = compareNMFtoPCA(V) # outputs list of pair matrices containing pearson correlation values for each [ith dimension][nmf_ith basis vector][pca_ith basis vector]\n",
    "# need to run analysis on above. maybe avg pair correlation values at each iteration?"
   ]
  },
  {
   "cell_type": "code",
   "execution_count": null,
   "metadata": {},
   "outputs": [],
   "source": [
    "display(l_p_vals[0].plot())"
   ]
  },
  {
   "cell_type": "markdown",
   "metadata": {},
   "source": [
    "## Recursive NMF Dimensionality Reduction? \n",
    "Do we lose more info in aproximating each step or losing the dimensions?"
   ]
  },
  {
   "cell_type": "raw",
   "metadata": {},
   "source": [
    "| | | \n",
    "v v v\n",
    "| |\n",
    "| v\n",
    "|\n",
    "v\n",
    "\n",
    "vs.\n",
    "\n",
    "| | |\n",
    "v v v\n",
    "| |/\n",
    "| v\n",
    "|/\n",
    "v"
   ]
  },
  {
   "cell_type": "code",
   "execution_count": null,
   "metadata": {},
   "outputs": [],
   "source": [
    "def recur_reduce_nmf(V, target, n=2):\n",
    "    w, h = my_nmf(pd.DataFrame(V), target - 1)\n",
    "    if(target == n + 1):\n",
    "        return w, h\n",
    "    return recur_reduce_nmf(np.dot(w, h), target - 1)"
   ]
  },
  {
   "cell_type": "code",
   "execution_count": null,
   "metadata": {},
   "outputs": [],
   "source": [
    "test_v = generateV()\n",
    "wt, ht = my_nmf(pd.DataFrame(test_v), 2)\n",
    "wr, hr = recur_reduce_nmf(test_v, len(test_v) - 1)\n",
    "\n",
    "tV = np.dot(wt, ht)\n",
    "rV = np.dot(wr, hr)"
   ]
  },
  {
   "cell_type": "code",
   "execution_count": null,
   "metadata": {},
   "outputs": [],
   "source": [
    "pd.DataFrame(wr).plot()\n",
    "pd.DataFrame(wt).plot()\n",
    "pd.DataFrame(hr).plot()\n",
    "pd.DataFrame(ht).plot()\n",
    "\n",
    "pd.DataFrame(rV).plot()\n",
    "pd.DataFrame(tV).plot()"
   ]
  },
  {
   "cell_type": "markdown",
   "metadata": {},
   "source": []
  },
  {
   "cell_type": "markdown",
   "metadata": {},
   "source": [
    "# Clustering our PCA and NMF transformed V"
   ]
  },
  {
   "cell_type": "code",
   "execution_count": null,
   "metadata": {},
   "outputs": [],
   "source": []
  }
 ],
 "metadata": {
  "kernelspec": {
   "display_name": "Python 3",
   "language": "python",
   "name": "python3"
  },
  "language_info": {
   "codemirror_mode": {
    "name": "ipython",
    "version": 3
   },
   "file_extension": ".py",
   "mimetype": "text/x-python",
   "name": "python",
   "nbconvert_exporter": "python",
   "pygments_lexer": "ipython3",
   "version": "3.7.4"
  }
 },
 "nbformat": 4,
 "nbformat_minor": 4
}
