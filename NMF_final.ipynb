{
 "cells": [
  {
   "cell_type": "markdown",
   "metadata": {},
   "source": [
    "# **Non-negative Matrix Factorization - An Implementation and Experimentation**\n",
    "### CSC 466-1 Knowledge Discovery from Data, Winter 2020 - Final Project\n",
    "#### Andrew Kesheshian, Griffin Johnson, Quinn Coleman"
   ]
  },
  {
   "cell_type": "markdown",
   "metadata": {},
   "source": [
    "## **Background**"
   ]
  },
  {
   "cell_type": "markdown",
   "metadata": {},
   "source": [
    "(insert introduction and background on NMF here)"
   ]
  },
  {
   "cell_type": "markdown",
   "metadata": {},
   "source": [
    "## **Implementation**"
   ]
  },
  {
   "cell_type": "code",
   "execution_count": 99,
   "metadata": {},
   "outputs": [],
   "source": [
    "import numpy as np\n",
    "from sklearn.preprocessing import normalize"
   ]
  },
  {
   "cell_type": "code",
   "execution_count": 100,
   "metadata": {},
   "outputs": [],
   "source": [
    "# If I don't normalize the basis vectors, transformed values upper limit ~20 on average by sight\n",
    "# If I do, upper limit ~15 on average by sight\n",
    "\n",
    "class OurNMF:\n",
    "    def __init__(self, n_components, learn_iter=200):\n",
    "        self.n_components_ = n_components\n",
    "        self.learn_iter_ = learn_iter\n",
    "        \n",
    "    # Private method - core functionality\n",
    "    def __nmf(self, input_df):\n",
    "        input_matrix = input_df.to_numpy().T\n",
    "        activations = np.random.rand(self.n_components_, input_matrix.shape[1])\n",
    "        basis_vectors = np.random.rand(input_matrix.shape[0], self.n_components_)\n",
    "\n",
    "#         print('Before normalization')\n",
    "#         print(basis_vectors)\n",
    "        basis_vectors = normalize(basis_vectors)\n",
    "#         print('After normalization')\n",
    "#         print(basis_vectors)\n",
    "\n",
    "        ones = np.ones(input_matrix.shape)\n",
    "    \n",
    "        for i in range(self.learn_iter_):\n",
    "            activations *= ((basis_vectors.T @ (input_matrix / (basis_vectors @ activations))) / (basis_vectors.T @ ones))\n",
    "            basis_vectors *= (((input_matrix / (basis_vectors @ activations)) @ activations.T) / (ones @ activations.T))\n",
    "            \n",
    "#             if i == 0:\n",
    "#                 print('Before normalization')\n",
    "#                 print(basis_vectors)\n",
    "            basis_vectors = normalize(basis_vectors)\n",
    "#             if i == 0:\n",
    "#                 print('After normalization')\n",
    "#                 print(basis_vectors)\n",
    "            \n",
    "        return basis_vectors.T, activations.T\n",
    "    \n",
    "    # Public methods\n",
    "    # Useless function - similar to scikit-learn, but call fit_transform to get transformed values back\n",
    "    def fit(self, input_df):\n",
    "        self.basis_vecs_, self.trans_vals_ = self.__nmf(input_df)\n",
    "        \n",
    "    def fit_transform(self, input_df):\n",
    "        self.basis_vecs_, self.trans_vals_ = self.__nmf(input_df)\n",
    "        return self.trans_vals_\n"
   ]
  },
  {
   "cell_type": "markdown",
   "metadata": {},
   "source": [
    "## **Validate our Implementation**\n",
    "Let's validate our implementation of NMF by comparing its results with the NMF method provided by a trusted and widely-used machine learning library.\n",
    "\n",
    "This library is called [scikit-learn](https://scikit-learn.org/stable/) and its NMF documentation can be found [here](https://scikit-learn.org/stable/modules/generated/sklearn.decomposition.NMF.html).\n",
    "\n",
    "***Note -- Scikit-Learn Documentation Error:***\n",
    "On the NMF documentation page, variable names *W* and *H* are swapped which can be very **misleading**. They call *W* the transformed data, and *H* the factorization matrix (dictionary elements). In reality, *W* is this factorization matrix, and *H* is the transformed data *(no documentation is perfect, even for scikit-learn)*."
   ]
  },
  {
   "cell_type": "markdown",
   "metadata": {},
   "source": [
    "#### **Dataset Creation**\n",
    "To begin, let's make a dataset for our NMFs. We use another python library, [pandas](https://pandas.pydata.org/), to handle datasets."
   ]
  },
  {
   "cell_type": "code",
   "execution_count": 101,
   "metadata": {},
   "outputs": [
    {
     "data": {
      "text/html": [
       "<div>\n",
       "<style scoped>\n",
       "    .dataframe tbody tr th:only-of-type {\n",
       "        vertical-align: middle;\n",
       "    }\n",
       "\n",
       "    .dataframe tbody tr th {\n",
       "        vertical-align: top;\n",
       "    }\n",
       "\n",
       "    .dataframe thead th {\n",
       "        text-align: right;\n",
       "    }\n",
       "</style>\n",
       "<table border=\"1\" class=\"dataframe\">\n",
       "  <thead>\n",
       "    <tr style=\"text-align: right;\">\n",
       "      <th></th>\n",
       "      <th>A</th>\n",
       "      <th>C</th>\n",
       "      <th>D</th>\n",
       "      <th>E</th>\n",
       "      <th>K</th>\n",
       "      <th>L</th>\n",
       "      <th>M</th>\n",
       "      <th>ans</th>\n",
       "    </tr>\n",
       "  </thead>\n",
       "  <tbody>\n",
       "    <tr>\n",
       "      <td>0</td>\n",
       "      <td>1.00</td>\n",
       "      <td>3</td>\n",
       "      <td>9</td>\n",
       "      <td>43.76</td>\n",
       "      <td>1</td>\n",
       "      <td>0</td>\n",
       "      <td>0</td>\n",
       "      <td>1</td>\n",
       "    </tr>\n",
       "    <tr>\n",
       "      <td>1</td>\n",
       "      <td>0.99</td>\n",
       "      <td>3</td>\n",
       "      <td>8</td>\n",
       "      <td>43.45</td>\n",
       "      <td>0</td>\n",
       "      <td>1</td>\n",
       "      <td>0</td>\n",
       "      <td>0</td>\n",
       "    </tr>\n",
       "    <tr>\n",
       "      <td>2</td>\n",
       "      <td>0.54</td>\n",
       "      <td>0</td>\n",
       "      <td>23</td>\n",
       "      <td>54.65</td>\n",
       "      <td>0</td>\n",
       "      <td>0</td>\n",
       "      <td>1</td>\n",
       "      <td>1</td>\n",
       "    </tr>\n",
       "    <tr>\n",
       "      <td>3</td>\n",
       "      <td>1.00</td>\n",
       "      <td>0</td>\n",
       "      <td>12</td>\n",
       "      <td>40.15</td>\n",
       "      <td>0</td>\n",
       "      <td>0</td>\n",
       "      <td>1</td>\n",
       "      <td>0</td>\n",
       "    </tr>\n",
       "    <tr>\n",
       "      <td>4</td>\n",
       "      <td>0.32</td>\n",
       "      <td>1</td>\n",
       "      <td>12</td>\n",
       "      <td>89.04</td>\n",
       "      <td>0</td>\n",
       "      <td>1</td>\n",
       "      <td>0</td>\n",
       "      <td>1</td>\n",
       "    </tr>\n",
       "    <tr>\n",
       "      <td>5</td>\n",
       "      <td>0.43</td>\n",
       "      <td>4</td>\n",
       "      <td>11</td>\n",
       "      <td>49.04</td>\n",
       "      <td>0</td>\n",
       "      <td>1</td>\n",
       "      <td>0</td>\n",
       "      <td>0</td>\n",
       "    </tr>\n",
       "    <tr>\n",
       "      <td>6</td>\n",
       "      <td>0.99</td>\n",
       "      <td>1</td>\n",
       "      <td>10</td>\n",
       "      <td>34.54</td>\n",
       "      <td>0</td>\n",
       "      <td>0</td>\n",
       "      <td>1</td>\n",
       "      <td>0</td>\n",
       "    </tr>\n",
       "  </tbody>\n",
       "</table>\n",
       "</div>"
      ],
      "text/plain": [
       "      A  C   D      E  K  L  M  ans\n",
       "0  1.00  3   9  43.76  1  0  0    1\n",
       "1  0.99  3   8  43.45  0  1  0    0\n",
       "2  0.54  0  23  54.65  0  0  1    1\n",
       "3  1.00  0  12  40.15  0  0  1    0\n",
       "4  0.32  1  12  89.04  0  1  0    1\n",
       "5  0.43  4  11  49.04  0  1  0    0\n",
       "6  0.99  1  10  34.54  0  0  1    0"
      ]
     },
     "execution_count": 101,
     "metadata": {},
     "output_type": "execute_result"
    }
   ],
   "source": [
    "import pandas as pd\n",
    "\n",
    "dummy_data = [{'A': 1.00, 'B': 'K', 'C': 3, 'D': 9, 'E': 43.76, 'ans': 1},\n",
    "              {'A': 0.99, 'B': 'L', 'C': 3, 'D': 8, 'E': 43.45, 'ans': 0},\n",
    "              {'A': 0.54, 'B': 'M', 'C': 0, 'D': 23, 'E': 54.65, 'ans': 1},\n",
    "              {'A': 1.00, 'B': 'M', 'C': 0, 'D': 12, 'E': 40.15, 'ans': 0},\n",
    "              {'A': 0.32, 'B': 'L', 'C': 1, 'D': 12, 'E': 89.04, 'ans': 1},\n",
    "              {'A': 0.43, 'B': 'L', 'C': 4, 'D': 11, 'E': 49.04, 'ans': 0},\n",
    "              {'A': 0.99, 'B': 'M', 'C': 1, 'D': 10, 'E': 34.54, 'ans': 0}]\n",
    "\n",
    "dummy_df = pd.DataFrame(dummy_data)\n",
    "# Transform categorical features ('B') into quantitative ones ('K', 'L', 'M') via get_dummies (one-hot encoding)\n",
    "quant = pd.get_dummies(dummy_df['B'])\n",
    "labels = dummy_df['ans']\n",
    "dummy_df = dummy_df.drop('B', axis=1).drop('ans', axis=1)\n",
    "dummy_df = pd.concat((dummy_df, quant, labels), axis=1)\n",
    "dummy_df"
   ]
  },
  {
   "cell_type": "markdown",
   "metadata": {},
   "source": [
    "#### **Comparison**\n",
    "A good way to see if our NMF works is by performing a common use case for dimensionality reduction: visualizing data."
   ]
  },
  {
   "cell_type": "code",
   "execution_count": 138,
   "metadata": {},
   "outputs": [
    {
     "data": {
      "text/plain": [
       "<matplotlib.axes._subplots.AxesSubplot at 0x7f2ca59bfb70>"
      ]
     },
     "execution_count": 138,
     "metadata": {},
     "output_type": "execute_result"
    },
    {
     "data": {
      "image/png": "[encoded data removed]",
      "text/plain": [
       "<Figure size 432x288 with 1 Axes>"
      ]
     },
     "metadata": {
      "needs_background": "light"
     },
     "output_type": "display_data"
    },
    {
     "data": {
      "image/png": "[encoded data removed]",
      "text/plain": [
       "<Figure size 432x288 with 1 Axes>"
      ]
     },
     "metadata": {
      "needs_background": "light"
     },
     "output_type": "display_data"
    }
   ],
   "source": [
    "%matplotlib inline\n",
    "from sklearn.decomposition import NMF\n",
    "\n",
    "sklearn_nmf = NMF(n_components=2, init='random', solver='mu', beta_loss='kullback-leibler')\n",
    "our_nmf = OurNMF(n_components=2)\n",
    "\n",
    "sklearn_trans_df = pd.DataFrame(sklearn_nmf.fit_transform(dummy_df), columns=['BV1', 'BV2'])\n",
    "our_trans_df = pd.DataFrame(our_nmf.fit_transform(dummy_df), columns=['BV1', 'BV2'])\n",
    "\n",
    "# display(sklearn_trans_df)\n",
    "# display(our_trans_df)\n",
    "\n",
    "sklearn_trans_df.plot.scatter(x='BV1', y='BV2', title='Scikit-Learn\\'s NMF Dim-Reduced Dataset')\n",
    "our_trans_df.plot.scatter(x='BV1', y='BV2', title='Our NMF Dim-Reduced Dataset')"
   ]
  },
  {
   "cell_type": "markdown",
   "metadata": {},
   "source": [
    "This is great! The data on both charts look similar, which means that both our and scikit-learn's NMF find the same way to represent this data in lower dimension. 👏\n",
    "\n",
    "*If you don't see a similarity between plots and the axes look flipped:* Run the previous code cell a couple more times until they match. This happens because in NMF each basis vector equally contributes to recreating the dataset, so their ordering isn't meaningful, thus not needing consistency. We just want to see when the basis vector set from our NMF is in the same order as scikit-learn NMF's basis vector set - when this happens, the transformed values corresponding to a basis vector will appear on the same axis as the other chart's axis."
   ]
  },
  {
   "cell_type": "code",
   "execution_count": null,
   "metadata": {},
   "outputs": [],
   "source": []
  },
  {
   "cell_type": "code",
   "execution_count": null,
   "metadata": {},
   "outputs": [],
   "source": []
  }
 ],
 "metadata": {
  "kernelspec": {
   "display_name": "Python 3",
   "language": "python",
   "name": "python3"
  },
  "language_info": {
   "codemirror_mode": {
    "name": "ipython",
    "version": 3
   },
   "file_extension": ".py",
   "mimetype": "text/x-python",
   "name": "python",
   "nbconvert_exporter": "python",
   "pygments_lexer": "ipython3",
   "version": "3.7.3"
  }
 },
 "nbformat": 4,
 "nbformat_minor": 4
}
