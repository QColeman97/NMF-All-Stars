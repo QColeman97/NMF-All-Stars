{
 "cells": [
  {
   "cell_type": "markdown",
   "metadata": {},
   "source": [
    "# **Non-negative Matrix Factorization - An Implementation and Experimentation**\n",
    "### CSC 466-1 Knowledge Discovery from Data, Winter 2020 - Final Project\n",
    "#### Andrew Kesheshian, Griffin Johnson, Quinn Coleman"
   ]
  },
  {
   "cell_type": "markdown",
   "metadata": {},
   "source": [
    "## **Background**\n",
    "Non-negative matrix factorization (NMF) is an unsupervised machine learning technique created by [Lee & Seung](http://www.columbia.edu/~jwp2128/Teaching/E4903/papers/nmf_nature.pdf) in 1999. It is a versatile algorithm because of its ability to make a parts-based-representation of its input data. What enables this parts-based-representation is the constraint that NMF's input data must be quantitative with no negative values. \n",
    "\n",
    "### **How it Works**\n",
    "Given a non-negative matrix ***V*** of dimension *f* ✕ *t*, the algorithm learns two non-negative matrices: ***W*** of dimension *f* ✕ *k* and ***H*** of dimension *k* ✕ *t*, where k < minimum(f,t). ***W*** and ***H*** are approximate factors of ***V***, thus when they are multiplied together, they create an approximation of the original matrix called ***V'***.\n",
    "\n",
    "- ***V*** is the original data\n",
    "    - t columns of f-dimensional data\n",
    "    - Each column is a sample, each row is a feature\n",
    "- ***W*** is the basis vectors (or dictionary matrix)\n",
    "    - A linear combination of these approximates any sample in V\n",
    "    - Each column is called a basis vector\n",
    "- ***H*** is the activations\n",
    "    - Each set of activations encodes a linear combination of all basis vectors, and corresponds to a sample in V\n",
    "    - Each column is called a set of activations (or weights or gains)\n",
    "\n",
    "To put it simply, basis vectors are like the building blocks to create any sample in our input data, and an activation tells us how much of each building block to use to recreate a sample."
   ]
  },
  {
   "cell_type": "markdown",
   "metadata": {},
   "source": [
    "![NMF](NMF.png)\n",
    "\n",
    "Figure by Qwertyus - Own work, CC BY-SA 3.0, https://commons.wikimedia.org/w/index.php?curid=29114677"
   ]
  },
  {
   "cell_type": "markdown",
   "metadata": {},
   "source": [
    "NMF has many uses. It can naturally be used for data compression and approximation - if k is small enough, like k = 2 in the figure above, ***W*** and ***H*** take up less space than the original data ***V***. It also has data-specific uses like source-seperation for audio data or topic extraction for textual data. A use of NMF we'll explore is **dimensionality reduction**. \n",
    "\n",
    "### **Dimensionality Reduction**\n",
    "Dimensionality reduction is the task of taking a dataset with many dimensions (or features), and transforming it into a dataset with fewer dimensions while losing the least amount of information possible.\n",
    "\n",
    "We already learned a dimensionality reduction technique in class: Principal Components Analysis (PCA). The principal components (PCs) in PCA describe the axes orthogonal to each other that run in the direction of greatest variance in the data. Thus, these principal components can describe the data in lower dimension.\n",
    "\n",
    "![PCA](PCA.png)\n",
    "\n",
    "Figure by https://medium.com/@TheDataGyan/dimensionality-reduction-with-pca-and-t-sne-in-r-2715683819"
   ]
  },
  {
   "cell_type": "markdown",
   "metadata": {},
   "source": [
    "Like the principal components of PCA, the basis vectors of NMF accomplish the same thing. If you think about it, basis vectors in the linear algebra sense are unit vectors that describe a vector space. To \"describe a vector space\" means any possible vector can be made with a linear combination of these basis vectors. Principal components are like specifically-designed basis vectors for losing the least amount of information possible. For example, in the figure above, if a dataset is being dimension-reduced by only 1 dimension, information will be lost but only on the axis of least variance (PC1 and PC2 are the axes of greatest variance).\n",
    "\n",
    "So in NMF, as long we choose a k-value that is less than the number of dimensions in our dataset, we'll create k basis vectors, and reduce our dataset down to k dimensions. Since each datapoint in a dimension-reduced dataset is a linear combination of basis vectors, our dimension-reduced dataset is simply the matrix ***H***."
   ]
  },
  {
   "cell_type": "markdown",
   "metadata": {},
   "source": [
    "## **Implementation**\n",
    "In order to make NMF, we frame an optimization problem. This optimization problem is about minimizing the distance/error from the product ***WH*** to ***V***. The implementation of NMF we are using is derived from a specific distance measurement called Kullback-Leibler (KL) Divergence. KL Divergence mathematically allows us to create two multiplicative update formulas, one for each of the matrices: ***W*** and ***H***.\n",
    "\n",
    "In this algorithm, ***W*** and ***H*** are initialized to random-valued matrices in an unsupervised manner, and ***V*** is input. Then, for a predetermined number of iterations (usually 100-200 until convergence), the multiplicative updates are applied to ***W*** and ***H*** in succession until their matrix product doesn't approximate the original data any much better with continuing iterations. The figure below sums up this algorithm as \"KL-NMF\"."
   ]
  },
  {
   "cell_type": "markdown",
   "metadata": {},
   "source": [
    "![NMF learn loop](NMF_Learn_Loop.png)\n",
    "\n",
    "Figure by https://ccrma.stanford.edu/~njb/teaching/sstutorial/part2.pdf"
   ]
  },
  {
   "cell_type": "markdown",
   "metadata": {},
   "source": [
    "For dimensionality reduction, one more step to take is to normalize the basis vector matrix after initialization and each update. This normalization insures that the basis vectors remain unit vectors, as the only thing that matters is their orientation. With that said, let's code this below. We'll put this algorithm inside the primary method of our NMF class."
   ]
  },
  {
   "cell_type": "code",
   "execution_count": 14,
   "metadata": {},
   "outputs": [],
   "source": [
    "import numpy as np\n",
    "from sklearn.preprocessing import normalize\n",
    "\n",
    "\n",
    "class OurNMF:\n",
    "    def __init__(self, n_components, learn_iter=200):\n",
    "        self.n_components_ = n_components\n",
    "        self.learn_iter_ = learn_iter\n",
    "        \n",
    "    # Private method - core functionality\n",
    "    def __nmf(self, input_df):\n",
    "        input_matrix = input_df.to_numpy().T\n",
    "        activations = np.random.rand(self.n_components_, input_matrix.shape[1])\n",
    "        basis_vectors = np.random.rand(input_matrix.shape[0], self.n_components_)\n",
    "        basis_vectors = normalize(basis_vectors)\n",
    "        ones = np.ones(input_matrix.shape)\n",
    "    \n",
    "        for i in range(self.learn_iter_):\n",
    "            activations *= ((basis_vectors.T @ (input_matrix / (basis_vectors @ activations))) / (basis_vectors.T @ ones))\n",
    "            basis_vectors *= (((input_matrix / (basis_vectors @ activations)) @ activations.T) / (ones @ activations.T))\n",
    "            \n",
    "            activations = np.nan_to_num(activations)\n",
    "            basis_vectors = np.nan_to_num(basis_vectors)\n",
    "            basis_vectors = normalize(basis_vectors)\n",
    "            \n",
    "        return basis_vectors.T, activations.T\n",
    "    \n",
    "    # Public methods\n",
    "    def fit(self, input_df):\n",
    "        self.basis_vecs_, self.trans_vals_ = self.__nmf(input_df)\n",
    "        \n",
    "    def fit_transform(self, input_df):\n",
    "        self.basis_vecs_, self.trans_vals_ = self.__nmf(input_df)\n",
    "        return self.trans_vals_\n",
    "\n",
    "    def test_fit(self, input_df):\n",
    "        return self.__nmf(input_df)"
   ]
  },
  {
   "cell_type": "markdown",
   "metadata": {},
   "source": [
    "## **Validate our Implementation**\n",
    "Let's validate our implementation of NMF by comparing its results with the NMF method provided by a trusted and widely-used machine learning library.\n",
    "\n",
    "This library is called [scikit-learn](https://scikit-learn.org/stable/) and its NMF documentation can be found [here](https://scikit-learn.org/stable/modules/generated/sklearn.decomposition.NMF.html).\n",
    "\n",
    "***Note -- Scikit-Learn Documentation Error:***\n",
    "On the NMF documentation page, variable names *W* and *H* are swapped which can be very **misleading**. They call *W* the transformed data, and *H* the factorization matrix (dictionary elements). In reality, *W* is this factorization matrix, and *H* is the transformed data *(no documentation is perfect, even for scikit-learn)*."
   ]
  },
  {
   "cell_type": "markdown",
   "metadata": {},
   "source": [
    "#### **Dataset Creation**\n",
    "To begin, let's make a dataset for our NMFs. We use another python library, [pandas](https://pandas.pydata.org/), to handle datasets."
   ]
  },
  {
   "cell_type": "code",
   "execution_count": 15,
   "metadata": {},
   "outputs": [
    {
     "data": {
      "text/html": [
       "<div>\n",
       "<style scoped>\n",
       "    .dataframe tbody tr th:only-of-type {\n",
       "        vertical-align: middle;\n",
       "    }\n",
       "\n",
       "    .dataframe tbody tr th {\n",
       "        vertical-align: top;\n",
       "    }\n",
       "\n",
       "    .dataframe thead th {\n",
       "        text-align: right;\n",
       "    }\n",
       "</style>\n",
       "<table border=\"1\" class=\"dataframe\">\n",
       "  <thead>\n",
       "    <tr style=\"text-align: right;\">\n",
       "      <th></th>\n",
       "      <th>A</th>\n",
       "      <th>C</th>\n",
       "      <th>D</th>\n",
       "      <th>E</th>\n",
       "      <th>K</th>\n",
       "      <th>L</th>\n",
       "      <th>M</th>\n",
       "      <th>ans</th>\n",
       "    </tr>\n",
       "  </thead>\n",
       "  <tbody>\n",
       "    <tr>\n",
       "      <td>0</td>\n",
       "      <td>1.00</td>\n",
       "      <td>3</td>\n",
       "      <td>9</td>\n",
       "      <td>43.76</td>\n",
       "      <td>1</td>\n",
       "      <td>0</td>\n",
       "      <td>0</td>\n",
       "      <td>1</td>\n",
       "    </tr>\n",
       "    <tr>\n",
       "      <td>1</td>\n",
       "      <td>0.99</td>\n",
       "      <td>3</td>\n",
       "      <td>8</td>\n",
       "      <td>43.45</td>\n",
       "      <td>0</td>\n",
       "      <td>1</td>\n",
       "      <td>0</td>\n",
       "      <td>0</td>\n",
       "    </tr>\n",
       "    <tr>\n",
       "      <td>2</td>\n",
       "      <td>0.54</td>\n",
       "      <td>0</td>\n",
       "      <td>23</td>\n",
       "      <td>54.65</td>\n",
       "      <td>0</td>\n",
       "      <td>0</td>\n",
       "      <td>1</td>\n",
       "      <td>1</td>\n",
       "    </tr>\n",
       "    <tr>\n",
       "      <td>3</td>\n",
       "      <td>1.00</td>\n",
       "      <td>0</td>\n",
       "      <td>12</td>\n",
       "      <td>40.15</td>\n",
       "      <td>0</td>\n",
       "      <td>0</td>\n",
       "      <td>1</td>\n",
       "      <td>0</td>\n",
       "    </tr>\n",
       "    <tr>\n",
       "      <td>4</td>\n",
       "      <td>0.32</td>\n",
       "      <td>1</td>\n",
       "      <td>12</td>\n",
       "      <td>89.04</td>\n",
       "      <td>0</td>\n",
       "      <td>1</td>\n",
       "      <td>0</td>\n",
       "      <td>1</td>\n",
       "    </tr>\n",
       "    <tr>\n",
       "      <td>5</td>\n",
       "      <td>0.43</td>\n",
       "      <td>4</td>\n",
       "      <td>11</td>\n",
       "      <td>49.04</td>\n",
       "      <td>0</td>\n",
       "      <td>1</td>\n",
       "      <td>0</td>\n",
       "      <td>0</td>\n",
       "    </tr>\n",
       "    <tr>\n",
       "      <td>6</td>\n",
       "      <td>0.99</td>\n",
       "      <td>1</td>\n",
       "      <td>10</td>\n",
       "      <td>34.54</td>\n",
       "      <td>0</td>\n",
       "      <td>0</td>\n",
       "      <td>1</td>\n",
       "      <td>0</td>\n",
       "    </tr>\n",
       "  </tbody>\n",
       "</table>\n",
       "</div>"
      ],
      "text/plain": [
       "      A  C   D      E  K  L  M  ans\n",
       "0  1.00  3   9  43.76  1  0  0    1\n",
       "1  0.99  3   8  43.45  0  1  0    0\n",
       "2  0.54  0  23  54.65  0  0  1    1\n",
       "3  1.00  0  12  40.15  0  0  1    0\n",
       "4  0.32  1  12  89.04  0  1  0    1\n",
       "5  0.43  4  11  49.04  0  1  0    0\n",
       "6  0.99  1  10  34.54  0  0  1    0"
      ]
     },
     "execution_count": 15,
     "metadata": {},
     "output_type": "execute_result"
    }
   ],
   "source": [
    "import pandas as pd\n",
    "\n",
    "dummy_data = [{'A': 1.00, 'B': 'K', 'C': 3, 'D': 9, 'E': 43.76, 'ans': 1},\n",
    "              {'A': 0.99, 'B': 'L', 'C': 3, 'D': 8, 'E': 43.45, 'ans': 0},\n",
    "              {'A': 0.54, 'B': 'M', 'C': 0, 'D': 23, 'E': 54.65, 'ans': 1},\n",
    "              {'A': 1.00, 'B': 'M', 'C': 0, 'D': 12, 'E': 40.15, 'ans': 0},\n",
    "              {'A': 0.32, 'B': 'L', 'C': 1, 'D': 12, 'E': 89.04, 'ans': 1},\n",
    "              {'A': 0.43, 'B': 'L', 'C': 4, 'D': 11, 'E': 49.04, 'ans': 0},\n",
    "              {'A': 0.99, 'B': 'M', 'C': 1, 'D': 10, 'E': 34.54, 'ans': 0}]\n",
    "\n",
    "dummy_df = pd.DataFrame(dummy_data)\n",
    "# Transform categorical features ('B') into quantitative ones ('K', 'L', 'M') via get_dummies (one-hot encoding)\n",
    "quant = pd.get_dummies(dummy_df['B'])\n",
    "labels = dummy_df['ans']\n",
    "dummy_df = dummy_df.drop('B', axis=1).drop('ans', axis=1)\n",
    "dummy_df = pd.concat((dummy_df, quant, labels), axis=1)\n",
    "dummy_df"
   ]
  },
  {
   "cell_type": "markdown",
   "metadata": {},
   "source": [
    "#### **Comparison**\n",
    "A good way to see if our NMF works is by performing a common use case for dimensionality reduction: visualizing data."
   ]
  },
  {
   "cell_type": "code",
   "execution_count": 16,
   "metadata": {},
   "outputs": [
    {
     "data": {
      "text/plain": [
       "<matplotlib.axes._subplots.AxesSubplot at 0x7f0366298080>"
      ]
     },
     "execution_count": 16,
     "metadata": {},
     "output_type": "execute_result"
    },
    {
     "data": {
      "image/png": "[encoded data removed]",
      "text/plain": [
       "<Figure size 432x288 with 1 Axes>"
      ]
     },
     "metadata": {
      "needs_background": "light"
     },
     "output_type": "display_data"
    },
    {
     "data": {
      "image/png": "[encoded data removed]",
      "text/plain": [
       "<Figure size 432x288 with 1 Axes>"
      ]
     },
     "metadata": {
      "needs_background": "light"
     },
     "output_type": "display_data"
    }
   ],
   "source": [
    "%matplotlib inline\n",
    "from sklearn.decomposition import NMF\n",
    "\n",
    "sklearn_nmf = NMF(n_components=2, init='random', solver='mu', beta_loss='kullback-leibler')\n",
    "our_nmf = OurNMF(n_components=2)\n",
    "\n",
    "sklearn_trans_df = pd.DataFrame(sklearn_nmf.fit_transform(dummy_df), columns=['BV1', 'BV2'])\n",
    "our_trans_df = pd.DataFrame(our_nmf.fit_transform(dummy_df), columns=['BV1', 'BV2'])\n",
    "\n",
    "sklearn_trans_df.plot.scatter(x='BV1', y='BV2', title='Scikit-Learn\\'s NMF Dim-Reduced Dataset')\n",
    "our_trans_df.plot.scatter(x='BV1', y='BV2', title='Our NMF Dim-Reduced Dataset')"
   ]
  },
  {
   "cell_type": "markdown",
   "metadata": {},
   "source": [
    "This is great, our NMF works! 🎉🎉 Since the data on both charts look similar, it seems that both our and scikit-learn's NMF find the same way to represent this data in lower dimension.\n",
    "\n",
    "*Note -- if you don't see a similarity between plots and the axes look flipped:* Run the previous code cell 1-2 more times until they match. This happens because in NMF each basis vector equally contributes to recreating the dataset, so their ordering isn't meaningful, thus not needing consistency. We just want to see when the two basis vectors from our NMF is in the same order as scikit-learn NMF's two basis vectors - when this happens, the transformed values corresponding to a basis vector will appear on the same axis as the other chart's axis."
   ]
  },
  {
   "cell_type": "markdown",
   "metadata": {},
   "source": [
    "## **Experimentation**"
   ]
  },
  {
   "cell_type": "markdown",
   "metadata": {},
   "source": [
    "Let's now use our NMF implementation to see how NMF compares to PCA.\n",
    "\n",
    "#### **Experiment 1: Comparing the Guts of NMF and PCA**\n",
    "\n",
    "In order to evaluate how our NMF algorithm compares to other dimensionality reduction algorithms, we can compare our implementation to PCA. When we are talking about two or less dimensions comparing basis vector becomes more difficult.  One way to do this is to use a correlation test between pairs of basis vectors from NMF and PCA respectively.\n",
    "\n",
    "For a correlation test, a common choice is the Pearson Correlation test which gives us a value between -1 and 1 that describes the linear correlated relationship of two vectors.\n",
    "\n",
    "The actual formula for calculating Pearson Correlation is as follows, \n",
    "$R_{XY} = \\frac{\\sum_{i=1}^n(X_i - \\overline{X})(Y_i - \\overline{Y})}{\\sqrt{\\sum_{i=1}^n(X_i - \\overline{X})^2}\\sqrt{\\sum_{i=1}^n(Y_i - \\overline{Y})^2}}$\n",
    "\n",
    "What all this math is doing is basically dividing the covariance by the product of the standard deviations for our given vectors. We can use scipy's implementation of the pearson correlation test by importing the given module."
   ]
  },
  {
   "cell_type": "code",
   "execution_count": 8,
   "metadata": {},
   "outputs": [],
   "source": [
    "# my various imports\n",
    "import numpy as np\n",
    "import pandas as pd\n",
    "from sklearn.decomposition import NMF\n",
    "from sklearn.metrics import mean_squared_error\n",
    "from sklearn.decomposition import PCA\n",
    "from scipy.stats import pearsonr\n",
    "from sklearn.preprocessing import normalize"
   ]
  },
  {
   "cell_type": "code",
   "execution_count": 9,
   "metadata": {},
   "outputs": [],
   "source": [
    "def correlate(nmf_i, pca_i):\n",
    "    # we only want the coefficient\n",
    "    return pearsonr(nmf_i, pca_i)[0] "
   ]
  },
  {
   "cell_type": "markdown",
   "metadata": {},
   "source": [
    "We also need a set of control data to run our tests against. Let's write a quick function to generate a square matrix of positive values ranging from 1 - 10."
   ]
  },
  {
   "cell_type": "code",
   "execution_count": 10,
   "metadata": {},
   "outputs": [],
   "source": [
    "# generates a matrix of N x N w/ values (1-10)\n",
    "def generateV(N=25):\n",
    "    return 10 * np.random.random_sample((N, N))"
   ]
  },
  {
   "cell_type": "markdown",
   "metadata": {},
   "source": [
    "Now let's write our function that compares NMF to PCA using the pearson correlation test function we just wrote."
   ]
  },
  {
   "cell_type": "code",
   "execution_count": 11,
   "metadata": {},
   "outputs": [],
   "source": [
    "def compareNMFtoPCA(V):\n",
    "    Vn = np.array(V)\n",
    "    F = len(V[0]) # feature count\n",
    "    pair_matrices = []\n",
    "    df = []\n",
    "    for i in range(F,1,-1):\n",
    "        p = PCA(n_components=i).fit(Vn).components_\n",
    "        pairs = [[0]*i]*i \n",
    "        our_nmf = OurNMF(n_components=i)\n",
    "        w, h = our_nmf.test_fit(pd.DataFrame(V))\n",
    "        sum = 0.0        \n",
    "        for nmf_i in range(i):\n",
    "            for pca_i in range(i):\n",
    "                sum += correlate(w[nmf_i], p[pca_i])\n",
    "                pairs[nmf_i][pca_i] = correlate(w[nmf_i], p[pca_i])\n",
    "        df.append([(sum / i)])\n",
    "        pair_matrices.append(pairs)\n",
    "    return pd.DataFrame(df, columns=[\"Correlation\"]), pair_matrices"
   ]
  },
  {
   "cell_type": "markdown",
   "metadata": {},
   "source": [
    "Our function at each iteration of dimensionality reduction, constructs every possible pair of basis vectors from both NMF and PCA. The function then compares each pair of basis vectors using pearson's correlation test. An average correlation value accross all pairs is retrieved for each iteration of dimensionality reduction. This value is meant to signify how closely each algorithm's produced basis vector is at a particular dimension."
   ]
  },
  {
   "cell_type": "code",
   "execution_count": 14,
   "metadata": {},
   "outputs": [],
   "source": [
    "V = generateV(N=50)\n",
    "# outputs list of pair matrices containing pearson correlation values \n",
    "# for each [ith dimension][nmf_ith basis vector][pca_ith basis vector]\n",
    "l_p_vals = compareNMFtoPCA(V) "
   ]
  },
  {
   "cell_type": "code",
   "execution_count": 19,
   "metadata": {},
   "outputs": [
    {
     "data": {
      "text/plain": [
       "<matplotlib.axes._subplots.AxesSubplot at 0x7f86cd8c1668>"
      ]
     },
     "metadata": {},
     "output_type": "display_data"
    },
    {
     "data": {
      "image/png": "[encoded data removed]",
      "text/plain": [
       "<Figure size 432x288 with 1 Axes>"
      ]
     },
     "metadata": {
      "needs_background": "light"
     },
     "output_type": "display_data"
    }
   ],
   "source": [
    "display(l_p_vals[0].plot(title=\"OurNMF Basis Vectors & PCA Basis Vectors Avg. Pearson Correlation\\n@ ith Dimension Reduction\"))"
   ]
  },
  {
   "cell_type": "markdown",
   "metadata": {},
   "source": [
    "Since this graph follows no clear trend, we can conclude that there is no correlation in the basis vectors obtained through PCA dimensionality reduction and NMF dimensionality reduction."
   ]
  },
  {
   "cell_type": "markdown",
   "metadata": {},
   "source": [
    "#### **Experiment 1.5: Comparing Approximation**\n",
    "\n",
    "A large advantage of NMF is that after you get your activation vectors as well as your basis vectors in the form of W and H, you are able to approximate the original input matrix. For our next experiment, let's look at how SKLearn's NMF and OurNMF compare at aproximating a square matrix of size N."
   ]
  },
  {
   "cell_type": "markdown",
   "metadata": {},
   "source": [
    "We will use the following function to compare our implementation of NMF to SKLearn's implementation of NMF. The function takes as input a size for the starting matrix. The function will then reduce the starting matrix by one dimension and try to approximate the original input matrix. We measure the average error at aproximating the original matrix for both our implementation and SKLearn's NMF. At each dimensionality reduction iteration, a mean average error is recorded for each respective algorithm. We also record the correlation of each algorithm's transformed activations (H matrix) at each iteration. We are able to visualize the results by plotting the data."
   ]
  },
  {
   "cell_type": "code",
   "execution_count": 20,
   "metadata": {},
   "outputs": [],
   "source": [
    "def compare_error(x_size):\n",
    "    X = generateV(N=x_size)\n",
    "    N = X.shape[1]\n",
    "    err_outs = []\n",
    "    sk_errs = []\n",
    "    my_errs = []\n",
    "\n",
    "    for i in range(N - 1, 2, -1): # inclusive range to N\n",
    "        skl_nmf = NMF(n_components=i, init='random', solver='mu', beta_loss='kullback-leibler')\n",
    "        sh = skl_nmf.fit_transform(X)\n",
    "        sw = skl_nmf.components_\n",
    "        sv = np.matmul(sw.transpose(), sh.transpose())\n",
    "        \n",
    "        our_nmf = OurNMF(n_components=i)\n",
    "        mw, mh = our_nmf.test_fit(pd.DataFrame(X))\n",
    "        mv = np.matmul(mw.transpose(), mh.transpose())\n",
    "        err_corr = 0\n",
    "        err_my = 0\n",
    "        err_sk = 0\n",
    "        cnt = 0.0\n",
    "        for k in range(len(mv[0])):\n",
    "            err_sk += mean_squared_error(sv[k], X[k])\n",
    "            err_my += mean_squared_error(mv[k], X[k])\n",
    "            err_corr += correlate(mh[k], sh[k])\n",
    "            cnt += 1\n",
    "        err_outs.append(err_corr / cnt)\n",
    "        sk_errs.append(err_sk / cnt)\n",
    "        my_errs.append(err_my / cnt)\n",
    "    return my_errs, sk_errs, err_outs"
   ]
  },
  {
   "cell_type": "code",
   "execution_count": 27,
   "metadata": {},
   "outputs": [
    {
     "data": {
      "text/plain": [
       "<matplotlib.axes._subplots.AxesSubplot at 0x7f86cd8256a0>"
      ]
     },
     "execution_count": 27,
     "metadata": {},
     "output_type": "execute_result"
    },
    {
     "data": {
      "image/png": "[encoded data removed]",
      "text/plain": [
       "<Figure size 432x288 with 1 Axes>"
      ]
     },
     "metadata": {
      "needs_background": "light"
     },
     "output_type": "display_data"
    },
    {
     "data": {
      "image/png": "[encoded data removed]",
      "text/plain": [
       "<Figure size 432x288 with 1 Axes>"
      ]
     },
     "metadata": {
      "needs_background": "light"
     },
     "output_type": "display_data"
    }
   ],
   "source": [
    "my_errs, sk_errs, err_outs = compare_error(100)\n",
    "errs_total = pd.DataFrame([sk_errs, my_errs]).transpose()\n",
    "errs_total.columns = ['SKlearn\\'s NMF', 'Our NMF']\n",
    "pd.Series(err_outs).plot(title=\"OurNMF and SKlearn's Transformed Values Pearson Correlation\\n@ ith Dimension Reduction\")\n",
    "errs_total.plot(title=\"SKlearn's NMF and OurNMF Avg. Mean Squared Errors aprox. V\\n@ ith Dimension Reduction\")"
   ]
  },
  {
   "cell_type": "markdown",
   "metadata": {},
   "source": [
    "After evaluating our generated graphs, we can see that OurNMF algorithm  is doing a good job at aproximating V at each step of the dimensionality reduction iteration judging from how closely OurNMF follows that of SKLearn's NMF. This makes sense given the underlying math of the algorithm is fairly straightforward.\n",
    "\n",
    "We can also see that the correlation between transformed values of OurNMF and SKLearn's NMF algorithm converges on 0 as we reduce dimensions."
   ]
  },
  {
   "cell_type": "markdown",
   "metadata": {},
   "source": [
    "#### **Experiment 2: Resolving the Curse of Dimensionality**\n",
    "A common problem in machine learning is the \"curse of dimensionality\" in which, as the number of dimensions of an incoming dataset increases, the prediction performance of a classifier goes down. Inversely, few samples in a dataset makes for poor classifier performance because there is little material for a classifier to form a generalization from. More so, if few features are important (and many features aren't indicative of the prediction target in any way) this makes it even harder for a classifier.\n",
    "\n",
    "This experiment will aim to create a difficult dataset with the qualities above, and use both our NMF and PCA to perform dimensionality reduction on this dataset. This will then allow a weak classifier to theoretically perform better. This is because dimensionality reduction should hone in on the most important features while it reduces the amount of features.\n",
    "\n",
    "Let's modify the titanic dataset to make it difficult. We'll begin by pre-processing it into quantitative, non-negative form. We'll be sure to fill in missing values, and scale our data so that no features with large values can unfairly skew the learning of our classifier. Min-max scaling will keep our data in a non-negative range of [0, 1]."
   ]
  },
  {
   "cell_type": "code",
   "execution_count": 4,
   "metadata": {},
   "outputs": [
    {
     "data": {
      "text/plain": [
       "(1309, 720)"
      ]
     },
     "metadata": {},
     "output_type": "display_data"
    },
    {
     "data": {
      "text/html": [
       "<div>\n",
       "<style scoped>\n",
       "    .dataframe tbody tr th:only-of-type {\n",
       "        vertical-align: middle;\n",
       "    }\n",
       "\n",
       "    .dataframe tbody tr th {\n",
       "        vertical-align: top;\n",
       "    }\n",
       "\n",
       "    .dataframe thead th {\n",
       "        text-align: right;\n",
       "    }\n",
       "</style>\n",
       "<table border=\"1\" class=\"dataframe\">\n",
       "  <thead>\n",
       "    <tr style=\"text-align: right;\">\n",
       "      <th></th>\n",
       "      <th>age</th>\n",
       "      <th>sibsp</th>\n",
       "      <th>parch</th>\n",
       "      <th>fare</th>\n",
       "      <th>pclass 1</th>\n",
       "      <th>pclass 2</th>\n",
       "      <th>pclass 3</th>\n",
       "      <th>female</th>\n",
       "      <th>male</th>\n",
       "      <th>1</th>\n",
       "      <th>...</th>\n",
       "      <th>Winnipeg, MB</th>\n",
       "      <th>Winnipeg, MN</th>\n",
       "      <th>Woodford County, KY</th>\n",
       "      <th>Worcester, England</th>\n",
       "      <th>Worcester, MA</th>\n",
       "      <th>Yoevil, England / Cottage Grove, OR</th>\n",
       "      <th>Youngstown, OH</th>\n",
       "      <th>Zurich, Switzerland</th>\n",
       "      <th>home.dest unknown</th>\n",
       "      <th>survived</th>\n",
       "    </tr>\n",
       "  </thead>\n",
       "  <tbody>\n",
       "    <tr>\n",
       "      <td>0</td>\n",
       "      <td>0.361169</td>\n",
       "      <td>0.000</td>\n",
       "      <td>0.000000</td>\n",
       "      <td>0.412503</td>\n",
       "      <td>1</td>\n",
       "      <td>0</td>\n",
       "      <td>0</td>\n",
       "      <td>1</td>\n",
       "      <td>0</td>\n",
       "      <td>0</td>\n",
       "      <td>...</td>\n",
       "      <td>0</td>\n",
       "      <td>0</td>\n",
       "      <td>0</td>\n",
       "      <td>0</td>\n",
       "      <td>0</td>\n",
       "      <td>0</td>\n",
       "      <td>0</td>\n",
       "      <td>0</td>\n",
       "      <td>0</td>\n",
       "      <td>1</td>\n",
       "    </tr>\n",
       "    <tr>\n",
       "      <td>1</td>\n",
       "      <td>0.009395</td>\n",
       "      <td>0.125</td>\n",
       "      <td>0.222222</td>\n",
       "      <td>0.295806</td>\n",
       "      <td>1</td>\n",
       "      <td>0</td>\n",
       "      <td>0</td>\n",
       "      <td>0</td>\n",
       "      <td>1</td>\n",
       "      <td>0</td>\n",
       "      <td>...</td>\n",
       "      <td>0</td>\n",
       "      <td>0</td>\n",
       "      <td>0</td>\n",
       "      <td>0</td>\n",
       "      <td>0</td>\n",
       "      <td>0</td>\n",
       "      <td>0</td>\n",
       "      <td>0</td>\n",
       "      <td>0</td>\n",
       "      <td>1</td>\n",
       "    </tr>\n",
       "    <tr>\n",
       "      <td>2</td>\n",
       "      <td>0.022964</td>\n",
       "      <td>0.125</td>\n",
       "      <td>0.222222</td>\n",
       "      <td>0.295806</td>\n",
       "      <td>1</td>\n",
       "      <td>0</td>\n",
       "      <td>0</td>\n",
       "      <td>1</td>\n",
       "      <td>0</td>\n",
       "      <td>0</td>\n",
       "      <td>...</td>\n",
       "      <td>0</td>\n",
       "      <td>0</td>\n",
       "      <td>0</td>\n",
       "      <td>0</td>\n",
       "      <td>0</td>\n",
       "      <td>0</td>\n",
       "      <td>0</td>\n",
       "      <td>0</td>\n",
       "      <td>0</td>\n",
       "      <td>0</td>\n",
       "    </tr>\n",
       "    <tr>\n",
       "      <td>3</td>\n",
       "      <td>0.373695</td>\n",
       "      <td>0.125</td>\n",
       "      <td>0.222222</td>\n",
       "      <td>0.295806</td>\n",
       "      <td>1</td>\n",
       "      <td>0</td>\n",
       "      <td>0</td>\n",
       "      <td>0</td>\n",
       "      <td>1</td>\n",
       "      <td>0</td>\n",
       "      <td>...</td>\n",
       "      <td>0</td>\n",
       "      <td>0</td>\n",
       "      <td>0</td>\n",
       "      <td>0</td>\n",
       "      <td>0</td>\n",
       "      <td>0</td>\n",
       "      <td>0</td>\n",
       "      <td>0</td>\n",
       "      <td>0</td>\n",
       "      <td>0</td>\n",
       "    </tr>\n",
       "    <tr>\n",
       "      <td>4</td>\n",
       "      <td>0.311064</td>\n",
       "      <td>0.125</td>\n",
       "      <td>0.222222</td>\n",
       "      <td>0.295806</td>\n",
       "      <td>1</td>\n",
       "      <td>0</td>\n",
       "      <td>0</td>\n",
       "      <td>1</td>\n",
       "      <td>0</td>\n",
       "      <td>0</td>\n",
       "      <td>...</td>\n",
       "      <td>0</td>\n",
       "      <td>0</td>\n",
       "      <td>0</td>\n",
       "      <td>0</td>\n",
       "      <td>0</td>\n",
       "      <td>0</td>\n",
       "      <td>0</td>\n",
       "      <td>0</td>\n",
       "      <td>0</td>\n",
       "      <td>0</td>\n",
       "    </tr>\n",
       "  </tbody>\n",
       "</table>\n",
       "<p>5 rows × 720 columns</p>\n",
       "</div>"
      ],
      "text/plain": [
       "        age  sibsp     parch      fare  pclass 1  pclass 2  pclass 3  female  \\\n",
       "0  0.361169  0.000  0.000000  0.412503         1         0         0       1   \n",
       "1  0.009395  0.125  0.222222  0.295806         1         0         0       0   \n",
       "2  0.022964  0.125  0.222222  0.295806         1         0         0       1   \n",
       "3  0.373695  0.125  0.222222  0.295806         1         0         0       0   \n",
       "4  0.311064  0.125  0.222222  0.295806         1         0         0       1   \n",
       "\n",
       "   male  1  ...  Winnipeg, MB  Winnipeg, MN  Woodford County, KY  \\\n",
       "0     0  0  ...             0             0                    0   \n",
       "1     1  0  ...             0             0                    0   \n",
       "2     0  0  ...             0             0                    0   \n",
       "3     1  0  ...             0             0                    0   \n",
       "4     0  0  ...             0             0                    0   \n",
       "\n",
       "   Worcester, England  Worcester, MA  Yoevil, England / Cottage Grove, OR  \\\n",
       "0                   0              0                                    0   \n",
       "1                   0              0                                    0   \n",
       "2                   0              0                                    0   \n",
       "3                   0              0                                    0   \n",
       "4                   0              0                                    0   \n",
       "\n",
       "   Youngstown, OH  Zurich, Switzerland  home.dest unknown  survived  \n",
       "0               0                    0                  0         1  \n",
       "1               0                    0                  0         1  \n",
       "2               0                    0                  0         0  \n",
       "3               0                    0                  0         0  \n",
       "4               0                    0                  0         0  \n",
       "\n",
       "[5 rows x 720 columns]"
      ]
     },
     "execution_count": 4,
     "metadata": {},
     "output_type": "execute_result"
    }
   ],
   "source": [
    "from sklearn.preprocessing import MinMaxScaler\n",
    "\n",
    "titanic_df = pd.read_csv(\n",
    "    \"https://raw.githubusercontent.com/dlsun/data-science-book/master/data/titanic.csv\"\n",
    ")\n",
    "\n",
    "titanic_df = titanic_df.drop(\"name\", axis=1)\n",
    "titanic_df = titanic_df.drop(\"ticket\", axis=1)\n",
    "\n",
    "# 0) filling missing data\n",
    "titanic_df = titanic_df.replace([np.inf, -np.inf], np.nan)\n",
    "titanic_df[\"age\"] = titanic_df[\"age\"].fillna(value=titanic_df[\"age\"].mean())\n",
    "titanic_df[\"fare\"] = titanic_df[\"fare\"].fillna(value=0.0)\n",
    "\n",
    "# 1) Scale the quantitative vars\n",
    "quant_feat = [\"age\", \"sibsp\", \"parch\", \"fare\"]\n",
    "scaler = MinMaxScaler()\n",
    "quant_titanic_df = titanic_df[quant_feat]\n",
    "quant_titanic_df = pd.DataFrame(scaler.fit_transform(quant_titanic_df), columns=quant_feat)\n",
    "\n",
    "titanic_df = titanic_df.drop(quant_feat, axis=1)\n",
    "titanic_df = pd.concat((titanic_df, quant_titanic_df), axis=1)\n",
    "\n",
    "# 2) Encode catagorical variables to quantitative variables\n",
    "catagorical_to_quantitative_maps = {}\n",
    "\n",
    "# pclass\n",
    "pclass_quant = pd.get_dummies(titanic_df[\"pclass\"])\n",
    "pclass_quant[\"pclass 1\"] = pclass_quant[1]\n",
    "pclass_quant = pclass_quant.drop(1, axis=1)\n",
    "pclass_quant[\"pclass 2\"] = pclass_quant[2]\n",
    "pclass_quant = pclass_quant.drop(2, axis=1)\n",
    "pclass_quant[\"pclass 3\"] = pclass_quant[3]\n",
    "pclass_quant = pclass_quant.drop(3, axis=1)\n",
    "titanic_df = titanic_df.drop('pclass', axis=1)\n",
    "titanic_df = pd.concat((titanic_df, pclass_quant), axis=1)\n",
    "\n",
    "# gender\n",
    "catagorical_to_quantitative_maps[\"sex\"] = list(titanic_df[\"sex\"].unique())\n",
    "gender_catagories = pd.DataFrame(pd.get_dummies(titanic_df[\"sex\"]))\n",
    "titanic_df = titanic_df.drop(\"sex\", axis = 1)\n",
    "titanic_df= pd.concat([titanic_df, gender_catagories], axis = 1)\n",
    "   \n",
    "# boat\n",
    "titanic_df[\"boat\"] = titanic_df[\"boat\"].fillna(value=\"No boat\")\n",
    "catagorical_to_quantitative_maps[\"boat\"] = list(titanic_df[\"boat\"].unique())\n",
    "boat_catagories = pd.DataFrame(pd.get_dummies(titanic_df[\"boat\"]))\n",
    "titanic_df = titanic_df.drop(\"boat\", axis = 1)\n",
    "titanic_df = pd.concat([titanic_df, boat_catagories], axis = 1)\n",
    "# adjust a few columns to aviod running into problems when creating a column with the same name\n",
    "# will need to consider this when going backwards\n",
    "titanic_df[\"boat C\"] = titanic_df[\"C\"]\n",
    "titanic_df = titanic_df.drop(\"C\", axis=1)\n",
    "catagorical_to_quantitative_maps[\"boat\"].append(\"boat C\")\n",
    "catagorical_to_quantitative_maps[\"boat\"].remove(\"C\")\n",
    "titanic_df[\"boat D\"] = titanic_df[\"D\"]\n",
    "titanic_df = titanic_df.drop(\"D\", axis=1)\n",
    "catagorical_to_quantitative_maps[\"boat\"].append(\"boat D\")\n",
    "catagorical_to_quantitative_maps[\"boat\"].remove(\"D\")\n",
    "\n",
    "#cabin\n",
    "catagorical_to_quantitative_maps[\"cabin\"] = list(titanic_df[\"cabin\"].unique())\n",
    "cabins = pd.DataFrame(pd.get_dummies(titanic_df[\"cabin\"]))\n",
    "titanic_df = titanic_df.drop(\"cabin\", axis = 1)\n",
    "titanic_df = pd.concat([titanic_df, cabins], axis = 1)\n",
    "\n",
    "#embarked\n",
    "titanic_df[\"embarked\"] = titanic_df[\"embarked\"].fillna(value=\"entrance unknown\")\n",
    "catagorical_to_quantitative_maps[\"embarked\"] = list(titanic_df[\"embarked\"].unique())\n",
    "entrances = pd.DataFrame(pd.get_dummies(titanic_df[\"embarked\"]))\n",
    "titanic_df = titanic_df.drop(\"embarked\", axis = 1)\n",
    "titanic_df = pd.concat([titanic_df, entrances], axis = 1)\n",
    "\n",
    "#body\n",
    "titanic_df[\"body\"] = titanic_df[\"body\"].fillna(value=\"body unknown\")\n",
    "catagorical_to_quantitative_maps[\"body\"] = list(titanic_df[\"body\"].unique())\n",
    "bodies = pd.DataFrame(pd.get_dummies(titanic_df[\"body\"]))\n",
    "titanic_df = titanic_df.drop(\"body\", axis = 1)\n",
    "titanic_df = pd.concat([titanic_df, bodies], axis = 1)\n",
    "\n",
    "#home.dest\n",
    "titanic_df[\"home.dest\"] = titanic_df[\"home.dest\"].fillna(value=\"home.dest unknown\")\n",
    "catagorical_to_quantitative_maps[\"home.dest\"] = list(titanic_df[\"home.dest\"].unique())\n",
    "destinations = pd.DataFrame(pd.get_dummies(titanic_df[\"home.dest\"]))\n",
    "titanic_df = titanic_df.drop(\"home.dest\", axis = 1)\n",
    "titanic_df = pd.concat([titanic_df, destinations], axis = 1)\n",
    "\n",
    "# Put class labels on the end\n",
    "survived = titanic_df['survived']\n",
    "titanic_df = titanic_df.drop('survived', axis=1)\n",
    "titanic_df = pd.concat((titanic_df, survived), axis=1)\n",
    "\n",
    "display(titanic_df.shape)\n",
    "titanic_df.head()"
   ]
  },
  {
   "cell_type": "markdown",
   "metadata": {},
   "source": [
    "Let's do ourselves a NMF non-negativity constraint sanity check, and see if we have any negative values in our dataset."
   ]
  },
  {
   "cell_type": "code",
   "execution_count": 5,
   "metadata": {},
   "outputs": [
    {
     "name": "stdout",
     "output_type": "stream",
     "text": [
      "Number of neg vals: 0\n"
     ]
    }
   ],
   "source": [
    "print('Number of neg vals:', (titanic_df < 0).sum().sum())"
   ]
  },
  {
   "cell_type": "markdown",
   "metadata": {},
   "source": [
    "Nope! So, now let's make this dataset hard for a classifier by using a small amount of samples, and adding many unimportant features - these are essentially noise for a classifier."
   ]
  },
  {
   "cell_type": "code",
   "execution_count": 6,
   "metadata": {},
   "outputs": [
    {
     "data": {
      "text/plain": [
       "(200, 2720)"
      ]
     },
     "metadata": {},
     "output_type": "display_data"
    },
    {
     "data": {
      "text/html": [
       "<div>\n",
       "<style scoped>\n",
       "    .dataframe tbody tr th:only-of-type {\n",
       "        vertical-align: middle;\n",
       "    }\n",
       "\n",
       "    .dataframe tbody tr th {\n",
       "        vertical-align: top;\n",
       "    }\n",
       "\n",
       "    .dataframe thead th {\n",
       "        text-align: right;\n",
       "    }\n",
       "</style>\n",
       "<table border=\"1\" class=\"dataframe\">\n",
       "  <thead>\n",
       "    <tr style=\"text-align: right;\">\n",
       "      <th></th>\n",
       "      <th>noise_f0</th>\n",
       "      <th>noise_f1</th>\n",
       "      <th>noise_f2</th>\n",
       "      <th>noise_f3</th>\n",
       "      <th>noise_f4</th>\n",
       "      <th>noise_f5</th>\n",
       "      <th>noise_f6</th>\n",
       "      <th>noise_f7</th>\n",
       "      <th>noise_f8</th>\n",
       "      <th>noise_f9</th>\n",
       "      <th>...</th>\n",
       "      <th>Winnipeg, MB</th>\n",
       "      <th>Winnipeg, MN</th>\n",
       "      <th>Woodford County, KY</th>\n",
       "      <th>Worcester, England</th>\n",
       "      <th>Worcester, MA</th>\n",
       "      <th>Yoevil, England / Cottage Grove, OR</th>\n",
       "      <th>Youngstown, OH</th>\n",
       "      <th>Zurich, Switzerland</th>\n",
       "      <th>home.dest unknown</th>\n",
       "      <th>survived</th>\n",
       "    </tr>\n",
       "  </thead>\n",
       "  <tbody>\n",
       "    <tr>\n",
       "      <td>0</td>\n",
       "      <td>0.662909</td>\n",
       "      <td>0.443931</td>\n",
       "      <td>0.462547</td>\n",
       "      <td>0.296631</td>\n",
       "      <td>0.254183</td>\n",
       "      <td>0.055814</td>\n",
       "      <td>0.850389</td>\n",
       "      <td>0.475527</td>\n",
       "      <td>0.308739</td>\n",
       "      <td>0.648973</td>\n",
       "      <td>...</td>\n",
       "      <td>0</td>\n",
       "      <td>0</td>\n",
       "      <td>0</td>\n",
       "      <td>0</td>\n",
       "      <td>0</td>\n",
       "      <td>0</td>\n",
       "      <td>0</td>\n",
       "      <td>0</td>\n",
       "      <td>1</td>\n",
       "      <td>0</td>\n",
       "    </tr>\n",
       "    <tr>\n",
       "      <td>1</td>\n",
       "      <td>0.181717</td>\n",
       "      <td>0.753577</td>\n",
       "      <td>0.678356</td>\n",
       "      <td>0.578486</td>\n",
       "      <td>0.241781</td>\n",
       "      <td>0.301081</td>\n",
       "      <td>0.674126</td>\n",
       "      <td>0.802209</td>\n",
       "      <td>0.470562</td>\n",
       "      <td>0.035503</td>\n",
       "      <td>...</td>\n",
       "      <td>0</td>\n",
       "      <td>0</td>\n",
       "      <td>0</td>\n",
       "      <td>0</td>\n",
       "      <td>0</td>\n",
       "      <td>0</td>\n",
       "      <td>0</td>\n",
       "      <td>0</td>\n",
       "      <td>1</td>\n",
       "      <td>0</td>\n",
       "    </tr>\n",
       "    <tr>\n",
       "      <td>2</td>\n",
       "      <td>0.089699</td>\n",
       "      <td>0.230864</td>\n",
       "      <td>0.665112</td>\n",
       "      <td>0.854662</td>\n",
       "      <td>0.423910</td>\n",
       "      <td>0.657349</td>\n",
       "      <td>0.857774</td>\n",
       "      <td>0.349233</td>\n",
       "      <td>0.190625</td>\n",
       "      <td>0.840201</td>\n",
       "      <td>...</td>\n",
       "      <td>0</td>\n",
       "      <td>0</td>\n",
       "      <td>0</td>\n",
       "      <td>0</td>\n",
       "      <td>0</td>\n",
       "      <td>0</td>\n",
       "      <td>0</td>\n",
       "      <td>0</td>\n",
       "      <td>1</td>\n",
       "      <td>0</td>\n",
       "    </tr>\n",
       "    <tr>\n",
       "      <td>3</td>\n",
       "      <td>0.735099</td>\n",
       "      <td>0.174886</td>\n",
       "      <td>0.857334</td>\n",
       "      <td>0.663739</td>\n",
       "      <td>0.674032</td>\n",
       "      <td>0.930980</td>\n",
       "      <td>0.832422</td>\n",
       "      <td>0.053184</td>\n",
       "      <td>0.763767</td>\n",
       "      <td>0.563166</td>\n",
       "      <td>...</td>\n",
       "      <td>0</td>\n",
       "      <td>0</td>\n",
       "      <td>0</td>\n",
       "      <td>0</td>\n",
       "      <td>0</td>\n",
       "      <td>0</td>\n",
       "      <td>0</td>\n",
       "      <td>0</td>\n",
       "      <td>1</td>\n",
       "      <td>1</td>\n",
       "    </tr>\n",
       "    <tr>\n",
       "      <td>4</td>\n",
       "      <td>0.782754</td>\n",
       "      <td>0.829165</td>\n",
       "      <td>0.378733</td>\n",
       "      <td>0.824815</td>\n",
       "      <td>0.540076</td>\n",
       "      <td>0.943269</td>\n",
       "      <td>0.802357</td>\n",
       "      <td>0.576927</td>\n",
       "      <td>0.827647</td>\n",
       "      <td>0.423430</td>\n",
       "      <td>...</td>\n",
       "      <td>0</td>\n",
       "      <td>0</td>\n",
       "      <td>0</td>\n",
       "      <td>0</td>\n",
       "      <td>0</td>\n",
       "      <td>0</td>\n",
       "      <td>0</td>\n",
       "      <td>0</td>\n",
       "      <td>0</td>\n",
       "      <td>0</td>\n",
       "    </tr>\n",
       "  </tbody>\n",
       "</table>\n",
       "<p>5 rows × 2720 columns</p>\n",
       "</div>"
      ],
      "text/plain": [
       "   noise_f0  noise_f1  noise_f2  noise_f3  noise_f4  noise_f5  noise_f6  \\\n",
       "0  0.662909  0.443931  0.462547  0.296631  0.254183  0.055814  0.850389   \n",
       "1  0.181717  0.753577  0.678356  0.578486  0.241781  0.301081  0.674126   \n",
       "2  0.089699  0.230864  0.665112  0.854662  0.423910  0.657349  0.857774   \n",
       "3  0.735099  0.174886  0.857334  0.663739  0.674032  0.930980  0.832422   \n",
       "4  0.782754  0.829165  0.378733  0.824815  0.540076  0.943269  0.802357   \n",
       "\n",
       "   noise_f7  noise_f8  noise_f9  ...  Winnipeg, MB  Winnipeg, MN  \\\n",
       "0  0.475527  0.308739  0.648973  ...             0             0   \n",
       "1  0.802209  0.470562  0.035503  ...             0             0   \n",
       "2  0.349233  0.190625  0.840201  ...             0             0   \n",
       "3  0.053184  0.763767  0.563166  ...             0             0   \n",
       "4  0.576927  0.827647  0.423430  ...             0             0   \n",
       "\n",
       "   Woodford County, KY  Worcester, England  Worcester, MA  \\\n",
       "0                    0                   0              0   \n",
       "1                    0                   0              0   \n",
       "2                    0                   0              0   \n",
       "3                    0                   0              0   \n",
       "4                    0                   0              0   \n",
       "\n",
       "   Yoevil, England / Cottage Grove, OR  Youngstown, OH  Zurich, Switzerland  \\\n",
       "0                                    0               0                    0   \n",
       "1                                    0               0                    0   \n",
       "2                                    0               0                    0   \n",
       "3                                    0               0                    0   \n",
       "4                                    0               0                    0   \n",
       "\n",
       "   home.dest unknown  survived  \n",
       "0                  1         0  \n",
       "1                  1         0  \n",
       "2                  1         0  \n",
       "3                  1         1  \n",
       "4                  0         0  \n",
       "\n",
       "[5 rows x 2720 columns]"
      ]
     },
     "execution_count": 6,
     "metadata": {},
     "output_type": "execute_result"
    }
   ],
   "source": [
    "n_samples = 200\n",
    "Xy = titanic_df.sample(frac=1.0)[:n_samples]\n",
    "Xy.index = range(n_samples)\n",
    "\n",
    "# 3) Put random vars in (already in min-max scale range)\n",
    "noise = pd.DataFrame(np.random.random(size=(n_samples, 2000)), columns=['noise_f' + str(x) for x in range(2000)])\n",
    "Xy = pd.concat((noise, Xy), axis=1)\n",
    "\n",
    "X = Xy.drop('survived', axis=1)\n",
    "y = Xy['survived']\n",
    "\n",
    "display(Xy.shape)\n",
    "Xy.head()"
   ]
  },
  {
   "cell_type": "markdown",
   "metadata": {},
   "source": [
    "Now we will get an accuracy measurement when we feed the entire dataset into a simple classifer: Logistic Regression."
   ]
  },
  {
   "cell_type": "code",
   "execution_count": 17,
   "metadata": {},
   "outputs": [],
   "source": [
    "from sklearn.metrics import accuracy_score\n",
    "from sklearn.model_selection import train_test_split\n",
    "from sklearn.linear_model import LogisticRegression\n",
    "\n",
    "\n",
    "def logreg_acc(X, y, pred_iterations=30):\n",
    "    accs = []\n",
    "    logreg_model = LogisticRegression()\n",
    "    for _ in range(pred_iterations):\n",
    "        X_train, X_test, y_train, y_test = train_test_split(X, y)\n",
    "        logreg_model.fit(X_train, y_train)\n",
    "        y_pred = logreg_model.predict(X_test)\n",
    "\n",
    "        acc_score = accuracy_score(y_pred, y_test)\n",
    "        accs.append(acc_score)\n",
    "\n",
    "    return np.mean(accs)\n"
   ]
  },
  {
   "cell_type": "code",
   "execution_count": null,
   "metadata": {},
   "outputs": [],
   "source": [
    "print('Logistic Regression Avg. Accuracy Score for Titanic Dataset (Bad):', logreg_acc(X, y))"
   ]
  },
  {
   "cell_type": "markdown",
   "metadata": {},
   "source": [
    "Accuracy of ~90% might seem okay, but if this were in use today we would still incorrectly predict 1/10 subjects which isn't reliable. Let's see if reducing dimension gives us performance gains, by doing this same thing over a number of dimensions. This might take 5-10 minutes."
   ]
  },
  {
   "cell_type": "code",
   "execution_count": 23,
   "metadata": {},
   "outputs": [],
   "source": [
    "from sklearn.decomposition import PCA\n",
    "# Solution: simple classifiers can handle these datasets better, after dimensionality reduction is applied\n",
    "# If we reduce dimensions on a dataset via NMF & sklearn PCA, and then predict at each dimension drop, does lin. reg. performance increase?\n",
    "\n",
    "def logreg_acc_for_nmf_pca(X, y, min_dim=2, pred_iterations=30):\n",
    "    dim_nmf_accs, dim_pca_accs = [], []\n",
    "    # Num of dim must be <= min dimension of our X for sklearn NMF\n",
    "    dim_iterations = range(min_dim, min(X.shape) + 1, 10)\n",
    "\n",
    "    # Track how prediction performance differs with amount of dimensions\n",
    "    for dim_num in dim_iterations: \n",
    "\n",
    "        # Perform PCA and NMF on same dataset\n",
    "        nmf_model = OurNMF(n_components=dim_num)\n",
    "        X_nmftrans = pd.DataFrame(nmf_model.fit_transform(X))\n",
    "        pca_model = PCA(n_components=dim_num)\n",
    "        X_pcatrans = pd.DataFrame(pca_model.fit_transform(X))\n",
    "\n",
    "        nmf_acc = logreg_acc(X_nmftrans, y, pred_iterations=pred_iterations)\n",
    "        pca_acc = logreg_acc(X_pcatrans, y, pred_iterations=pred_iterations)\n",
    "\n",
    "        dim_nmf_accs.append(nmf_acc)\n",
    "        dim_pca_accs.append(pca_acc)\n",
    "\n",
    "    nmf_logreg_accs = pd.Series(dim_nmf_accs)\n",
    "    pca_logreg_accs = pd.Series(dim_pca_accs)\n",
    "    nmf_logreg_accs.index = dim_iterations\n",
    "    pca_logreg_accs.index = dim_iterations\n",
    "    \n",
    "    return nmf_logreg_accs, pca_logreg_accs\n"
   ]
  },
  {
   "cell_type": "code",
   "execution_count": null,
   "metadata": {},
   "outputs": [],
   "source": [
    "nmf_logreg_accs, pca_logreg_accs = logreg_acc_for_nmf_pca(X, y)"
   ]
  },
  {
   "cell_type": "code",
   "execution_count": 9,
   "metadata": {},
   "outputs": [
    {
     "data": {
      "text/plain": [
       "Text(0.5, 0, 'Dimensions')"
      ]
     },
     "execution_count": 9,
     "metadata": {},
     "output_type": "execute_result"
    },
    {
     "data": {
      "image/png": "[encoded data removed]",
      "text/plain": [
       "<Figure size 1080x576 with 1 Axes>"
      ]
     },
     "metadata": {
      "needs_background": "light"
     },
     "output_type": "display_data"
    }
   ],
   "source": [
    "nmf_logreg_accs.plot.line(title='LogReg Accuracy for PCA and NMF Dim-Reduced Data', legend=True, label='NMF', figsize=(15,8))\n",
    "ax = pca_logreg_accs.plot.line(legend=True, label='PCA')\n",
    "ax.set_xlabel(\"Dimensions\")"
   ]
  },
  {
   "cell_type": "markdown",
   "metadata": {},
   "source": [
    "It seems like any trend in performance is hard to see here.\n",
    "\n",
    "#### **Let's try a more NMF-appropriate dataset: Wine**\n",
    "NMF is overall better suited for naturally non-negative and quantitative data. This data can be thought of as from \"physical\" measurements, like audio and picture data for example."
   ]
  },
  {
   "cell_type": "code",
   "execution_count": 10,
   "metadata": {},
   "outputs": [
    {
     "data": {
      "text/plain": [
       "(200, 2013)"
      ]
     },
     "metadata": {},
     "output_type": "display_data"
    },
    {
     "data": {
      "text/html": [
       "<div>\n",
       "<style scoped>\n",
       "    .dataframe tbody tr th:only-of-type {\n",
       "        vertical-align: middle;\n",
       "    }\n",
       "\n",
       "    .dataframe tbody tr th {\n",
       "        vertical-align: top;\n",
       "    }\n",
       "\n",
       "    .dataframe thead th {\n",
       "        text-align: right;\n",
       "    }\n",
       "</style>\n",
       "<table border=\"1\" class=\"dataframe\">\n",
       "  <thead>\n",
       "    <tr style=\"text-align: right;\">\n",
       "      <th></th>\n",
       "      <th>noise_f0</th>\n",
       "      <th>noise_f1</th>\n",
       "      <th>noise_f2</th>\n",
       "      <th>noise_f3</th>\n",
       "      <th>noise_f4</th>\n",
       "      <th>noise_f5</th>\n",
       "      <th>noise_f6</th>\n",
       "      <th>noise_f7</th>\n",
       "      <th>noise_f8</th>\n",
       "      <th>noise_f9</th>\n",
       "      <th>...</th>\n",
       "      <th>residual sugar</th>\n",
       "      <th>chlorides</th>\n",
       "      <th>free sulfur dioxide</th>\n",
       "      <th>total sulfur dioxide</th>\n",
       "      <th>density</th>\n",
       "      <th>pH</th>\n",
       "      <th>sulphates</th>\n",
       "      <th>alcohol</th>\n",
       "      <th>quality</th>\n",
       "      <th>class</th>\n",
       "    </tr>\n",
       "  </thead>\n",
       "  <tbody>\n",
       "    <tr>\n",
       "      <td>0</td>\n",
       "      <td>0.064220</td>\n",
       "      <td>0.728601</td>\n",
       "      <td>0.176392</td>\n",
       "      <td>0.170493</td>\n",
       "      <td>0.335472</td>\n",
       "      <td>0.948288</td>\n",
       "      <td>0.740150</td>\n",
       "      <td>0.407161</td>\n",
       "      <td>0.544084</td>\n",
       "      <td>0.600396</td>\n",
       "      <td>...</td>\n",
       "      <td>0.047945</td>\n",
       "      <td>0.100167</td>\n",
       "      <td>0.225352</td>\n",
       "      <td>0.127208</td>\n",
       "      <td>0.406021</td>\n",
       "      <td>0.496063</td>\n",
       "      <td>0.089820</td>\n",
       "      <td>0.092308</td>\n",
       "      <td>0.200000</td>\n",
       "      <td>1</td>\n",
       "    </tr>\n",
       "    <tr>\n",
       "      <td>1</td>\n",
       "      <td>0.149934</td>\n",
       "      <td>0.354719</td>\n",
       "      <td>0.430805</td>\n",
       "      <td>0.664133</td>\n",
       "      <td>0.046774</td>\n",
       "      <td>0.752788</td>\n",
       "      <td>0.056671</td>\n",
       "      <td>0.279760</td>\n",
       "      <td>0.681627</td>\n",
       "      <td>0.004791</td>\n",
       "      <td>...</td>\n",
       "      <td>0.256135</td>\n",
       "      <td>0.124629</td>\n",
       "      <td>0.052265</td>\n",
       "      <td>0.324826</td>\n",
       "      <td>0.217660</td>\n",
       "      <td>0.254545</td>\n",
       "      <td>0.244186</td>\n",
       "      <td>0.225806</td>\n",
       "      <td>0.500000</td>\n",
       "      <td>0</td>\n",
       "    </tr>\n",
       "    <tr>\n",
       "      <td>2</td>\n",
       "      <td>0.982050</td>\n",
       "      <td>0.817961</td>\n",
       "      <td>0.516397</td>\n",
       "      <td>0.767711</td>\n",
       "      <td>0.630847</td>\n",
       "      <td>0.229124</td>\n",
       "      <td>0.449084</td>\n",
       "      <td>0.431384</td>\n",
       "      <td>0.855092</td>\n",
       "      <td>0.648402</td>\n",
       "      <td>...</td>\n",
       "      <td>0.194785</td>\n",
       "      <td>0.130564</td>\n",
       "      <td>0.160279</td>\n",
       "      <td>0.429234</td>\n",
       "      <td>0.198381</td>\n",
       "      <td>0.336364</td>\n",
       "      <td>0.267442</td>\n",
       "      <td>0.225806</td>\n",
       "      <td>0.333333</td>\n",
       "      <td>0</td>\n",
       "    </tr>\n",
       "    <tr>\n",
       "      <td>3</td>\n",
       "      <td>0.178180</td>\n",
       "      <td>0.002649</td>\n",
       "      <td>0.991157</td>\n",
       "      <td>0.689588</td>\n",
       "      <td>0.246285</td>\n",
       "      <td>0.764447</td>\n",
       "      <td>0.384326</td>\n",
       "      <td>0.617005</td>\n",
       "      <td>0.688665</td>\n",
       "      <td>0.088804</td>\n",
       "      <td>...</td>\n",
       "      <td>0.133562</td>\n",
       "      <td>0.136895</td>\n",
       "      <td>0.478873</td>\n",
       "      <td>0.353357</td>\n",
       "      <td>0.596916</td>\n",
       "      <td>0.283465</td>\n",
       "      <td>0.119760</td>\n",
       "      <td>0.123077</td>\n",
       "      <td>0.400000</td>\n",
       "      <td>1</td>\n",
       "    </tr>\n",
       "    <tr>\n",
       "      <td>4</td>\n",
       "      <td>0.769153</td>\n",
       "      <td>0.016925</td>\n",
       "      <td>0.083958</td>\n",
       "      <td>0.769115</td>\n",
       "      <td>0.282769</td>\n",
       "      <td>0.041939</td>\n",
       "      <td>0.850215</td>\n",
       "      <td>0.289665</td>\n",
       "      <td>0.038675</td>\n",
       "      <td>0.777346</td>\n",
       "      <td>...</td>\n",
       "      <td>0.199387</td>\n",
       "      <td>0.121662</td>\n",
       "      <td>0.132404</td>\n",
       "      <td>0.368910</td>\n",
       "      <td>0.202236</td>\n",
       "      <td>0.318182</td>\n",
       "      <td>0.348837</td>\n",
       "      <td>0.258065</td>\n",
       "      <td>0.666667</td>\n",
       "      <td>0</td>\n",
       "    </tr>\n",
       "  </tbody>\n",
       "</table>\n",
       "<p>5 rows × 2013 columns</p>\n",
       "</div>"
      ],
      "text/plain": [
       "   noise_f0  noise_f1  noise_f2  noise_f3  noise_f4  noise_f5  noise_f6  \\\n",
       "0  0.064220  0.728601  0.176392  0.170493  0.335472  0.948288  0.740150   \n",
       "1  0.149934  0.354719  0.430805  0.664133  0.046774  0.752788  0.056671   \n",
       "2  0.982050  0.817961  0.516397  0.767711  0.630847  0.229124  0.449084   \n",
       "3  0.178180  0.002649  0.991157  0.689588  0.246285  0.764447  0.384326   \n",
       "4  0.769153  0.016925  0.083958  0.769115  0.282769  0.041939  0.850215   \n",
       "\n",
       "   noise_f7  noise_f8  noise_f9  ...  residual sugar  chlorides  \\\n",
       "0  0.407161  0.544084  0.600396  ...        0.047945   0.100167   \n",
       "1  0.279760  0.681627  0.004791  ...        0.256135   0.124629   \n",
       "2  0.431384  0.855092  0.648402  ...        0.194785   0.130564   \n",
       "3  0.617005  0.688665  0.088804  ...        0.133562   0.136895   \n",
       "4  0.289665  0.038675  0.777346  ...        0.199387   0.121662   \n",
       "\n",
       "   free sulfur dioxide  total sulfur dioxide   density        pH  sulphates  \\\n",
       "0             0.225352              0.127208  0.406021  0.496063   0.089820   \n",
       "1             0.052265              0.324826  0.217660  0.254545   0.244186   \n",
       "2             0.160279              0.429234  0.198381  0.336364   0.267442   \n",
       "3             0.478873              0.353357  0.596916  0.283465   0.119760   \n",
       "4             0.132404              0.368910  0.202236  0.318182   0.348837   \n",
       "\n",
       "    alcohol   quality  class  \n",
       "0  0.092308  0.200000      1  \n",
       "1  0.225806  0.500000      0  \n",
       "2  0.225806  0.333333      0  \n",
       "3  0.123077  0.400000      1  \n",
       "4  0.258065  0.666667      0  \n",
       "\n",
       "[5 rows x 2013 columns]"
      ]
     },
     "execution_count": 10,
     "metadata": {},
     "output_type": "execute_result"
    }
   ],
   "source": [
    "scaler = MinMaxScaler()\n",
    "\n",
    "reds_df = pd.read_csv(\n",
    "    \"https://raw.githubusercontent.com/dlsun/data-science-book/master/data/wines/reds.csv\", \n",
    "    delimiter=';'\n",
    ")\n",
    "reds_df = pd.DataFrame(scaler.fit_transform(reds_df), columns=reds_df.columns)\n",
    "reds_df['class'] = 1\n",
    "whites_df = pd.read_csv(\n",
    "    \"https://raw.githubusercontent.com/dlsun/data-science-book/master/data/wines/whites.csv\", \n",
    "    delimiter=';'\n",
    ")\n",
    "whites_df = pd.DataFrame(scaler.fit_transform(whites_df), columns=whites_df.columns)\n",
    "whites_df['class'] = 0\n",
    "\n",
    "n_samples = 200\n",
    "reds_df = reds_df.sample(frac=1.0)[:n_samples // 2]\n",
    "whites_df = whites_df.sample(frac=1.0)[:n_samples // 2]\n",
    "\n",
    "Xy = pd.concat((reds_df, whites_df), axis=0).sample(frac=1.0)\n",
    "Xy.index = range(n_samples)\n",
    "\n",
    "# Put random vars in (already in min-max scale range)\n",
    "noise = pd.DataFrame(np.random.random(size=(n_samples, 2000)), columns=['noise_f' + str(x) for x in range(2000)])\n",
    "Xy = pd.concat((noise, Xy), axis=1)\n",
    "\n",
    "X = Xy.drop('class', axis=1)\n",
    "y = Xy['class']\n",
    "\n",
    "display(Xy.shape)\n",
    "Xy.head()"
   ]
  },
  {
   "cell_type": "code",
   "execution_count": 11,
   "metadata": {},
   "outputs": [
    {
     "name": "stdout",
     "output_type": "stream",
     "text": [
      "Logistic Regression Average Accuracy Score for Wines Dataset (Bad): 0.5166666666666667\n"
     ]
    }
   ],
   "source": [
    "print('Logistic Regression Average Accuracy Score for Wines Dataset (Bad):', logreg_acc(X, y))"
   ]
  },
  {
   "cell_type": "markdown",
   "metadata": {},
   "source": [
    "Weak classifier performance is bad as expected. Will dimensionality reduction help now? This again may take 5-10 minutes."
   ]
  },
  {
   "cell_type": "code",
   "execution_count": 21,
   "metadata": {},
   "outputs": [],
   "source": [
    "nmf_logreg_accs, pca_logreg_accs = logreg_acc_for_nmf_pca(X, y)"
   ]
  },
  {
   "cell_type": "code",
   "execution_count": 22,
   "metadata": {},
   "outputs": [
    {
     "data": {
      "text/plain": [
       "Text(0.5, 0, 'Dimensions')"
      ]
     },
     "execution_count": 22,
     "metadata": {},
     "output_type": "execute_result"
    },
    {
     "data": {
      "image/png": "[encoded data removed]",
      "text/plain": [
       "<Figure size 1080x576 with 1 Axes>"
      ]
     },
     "metadata": {
      "needs_background": "light"
     },
     "output_type": "display_data"
    }
   ],
   "source": [
    "nmf_logreg_accs.plot.line(title='LogReg Accuracy for PCA and NMF Dim-Reduced Data', legend=True, label='NMF', figsize=(15,8))\n",
    "ax = pca_logreg_accs.plot.line(legend=True, label='PCA')\n",
    "ax.set_xlabel(\"Dimensions\")"
   ]
  },
  {
   "cell_type": "markdown",
   "metadata": {},
   "source": [
    "So it looks like as our dimensions are lowered, there is a subtle trend towards higher accuracy. Interestingly, NMF seems to have greater varying accuracy over a range of dimensions than PCA. PCA seems to yield a more constant high accuracy. This is most likely because PCA finds the most descriptive features to have a say in any number of dimensions, while NMF shouldn't weigh any features higher than others in a dimension reduction. On that bombshell, thanks for joining us on our adventure into NMF."
   ]
  },
  {
   "cell_type": "code",
   "execution_count": null,
   "metadata": {},
   "outputs": [],
   "source": []
  }
 ],
 "metadata": {
  "kernelspec": {
   "display_name": "Python 3",
   "language": "python",
   "name": "python3"
  },
  "language_info": {
   "codemirror_mode": {
    "name": "ipython",
    "version": 3
   },
   "file_extension": ".py",
   "mimetype": "text/x-python",
   "name": "python",
   "nbconvert_exporter": "python",
   "pygments_lexer": "ipython3",
   "version": "3.7.3"
  }
 },
 "nbformat": 4,
 "nbformat_minor": 4
}
