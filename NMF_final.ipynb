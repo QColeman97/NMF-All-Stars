{
 "cells": [
  {
   "cell_type": "markdown",
   "metadata": {},
   "source": [
    "# **Non-negative Matrix Factorization - An Implementation and Experimentation**\n",
    "### CSC 466-1 Knowledge Discovery from Data, Winter 2020 - Final Project\n",
    "#### Andrew Kesheshian, Griffin Johnson, Quinn Coleman"
   ]
  },
  {
   "cell_type": "markdown",
   "metadata": {},
   "source": [
    "## **Background**\n",
    "Non-negative matrix factorization (NMF) is an unsupervised machine learning technique created by [Lee & Seung](http://www.columbia.edu/~jwp2128/Teaching/E4903/papers/nmf_nature.pdf) in 1999. It is a versatile algorithm because of its ability to make a parts-based-representation of its input data. What enables this parts-based-representation is the constraint that NMF's input data must be quantitative with no negative values. \n",
    "\n",
    "### **How it Works**\n",
    "Given a non-negative matrix ***V*** of dimension *f* ✕ *t*, the algorithm learns two non-negative matrices: ***W*** of dimension *f* ✕ *k* and ***H*** of dimension *k* ✕ *t*, where k < minimum(f,t). ***W*** and ***H*** are approximate factors of ***V***, thus when they are multiplied together, they create an approximation of the original matrix called ***V'***.\n",
    "\n",
    "- ***V*** is the original data\n",
    "    - t columns of f-dimensional data\n",
    "    - Each column is a sample, each row is a feature\n",
    "- ***W*** is the basis vectors (or dictionary matrix)\n",
    "    - A linear combination of these approximates any sample in V\n",
    "    - Each column is called a basis vector\n",
    "- ***H*** is the activations\n",
    "    - Each activation encodes a linear combination of all basis vectors, and corresponds to a sample in V\n",
    "    - Each column is called an activation (or weight or gain)\n",
    "\n",
    "To put it simply, basis vectors are like the building blocks to create any sample in our input data, and an activation tells us how much of each building block to use to recreate a sample."
   ]
  },
  {
   "cell_type": "markdown",
   "metadata": {},
   "source": [
    "![NMF](NMF.png)\n",
    "\n",
    "Figure by Qwertyus - Own work, CC BY-SA 3.0, https://commons.wikimedia.org/w/index.php?curid=29114677"
   ]
  },
  {
   "cell_type": "markdown",
   "metadata": {},
   "source": [
    "NMF has many uses. It can naturally be used for data compression and approximation - if k is small enough, like k = 2 in the figure above, ***W*** and ***H*** take up less space than the original data ***V***. It also has data-specific uses like source-seperation for audio data or topic extraction for textual data. A use of NMF we'll explore is **dimensionality reduction**. \n",
    "\n",
    "### **Dimensionality Reduction**\n",
    "Dimensionality reduction is the task of taking a dataset with many dimesions (or features), and transforming it into a dataset with fewer dimensions while losing the least amount of information possible.\n",
    "\n",
    "We already learned a dimensionality reduction technique in class: Principal Components Analysis (PCA). The principal components (PCs) in PCA describe the axes orthogonal to each other that run in the direction of greatest variance in the data. Thus, these principal components can describe the data in lower dimension.\n",
    "\n",
    "![PCA](PCA.png)\n",
    "\n",
    "Figure by https://medium.com/@TheDataGyan/dimensionality-reduction-with-pca-and-t-sne-in-r-2715683819"
   ]
  },
  {
   "cell_type": "markdown",
   "metadata": {},
   "source": [
    "Like the principal components of PCA, the basis vectors of NMF accomplish the same thing. If you think about it, basis vectors in the linear algebra sense are unit vectors that describe a vector space. To \"describe a vector space\" means any possible vector can be made with a linear combination of these basis vectors. Principal components are like specifically-designed basis vectors for losing the least amount of information possible. For example, in the figure above, if a dataset is being dimension-reduced by only 1 dimension, information will be lost but only on the axis of least variance (PC1 and PC2 are the axes of greatest variance).\n",
    "\n",
    "So in NMF, as long we choose a k-value that is less than the number of dimensions in our dataset, we'll create k basis vectors, and reduce our dataset down to k dimensions. Since each datapoint in a dimension-reduced dataset is a linear combination of basis vectors, our dimension-reduced dataset is simply the matrix ***H***."
   ]
  },
  {
   "cell_type": "markdown",
   "metadata": {},
   "source": [
    "## **Implementation**\n",
    "In order to make NMF, we frame an optimization problem. This optimization problem is about minimizing the distance/error from the product ***WH*** to ***V***. The implementation of NMF we are using is derived from a specific distance measurement called Kullback-Leibler (KL) Divergence. KL Divergence mathematically allows us to create two multiplicative update formulas, one for each of the matrices: ***W*** and ***H***.\n",
    "\n",
    "In this algorithm, ***W*** and ***H*** are initialized to random-valued matrices in an unsupervised manner, and ***V*** is input. Then, for a predetermined number of iterations (usually 100-200 until convergence), the multiplicative updates are applied to ***W*** and ***H*** in succession until their matrix product doesn't approximate the original data any much better with continuing iterations. The figure below sums up this algorithm as \"KL-NMF\"."
   ]
  },
  {
   "cell_type": "markdown",
   "metadata": {},
   "source": [
    "![NMF learn loop](NMF_Learn_Loop.png)\n",
    "\n",
    "Figure by https://ccrma.stanford.edu/~njb/teaching/sstutorial/part2.pdf"
   ]
  },
  {
   "cell_type": "markdown",
   "metadata": {},
   "source": [
    "For dimensionality reduction, one more step to take is to normalize the basis vector matrix after initialization and each update. This normalization insures that the basis vectors remain unit vectors, as the only thing that matters is their orientation. With that said, let's code this below. We'll put this algorithm inside the primary method of our NMF class."
   ]
  },
  {
   "cell_type": "code",
   "execution_count": 1,
   "metadata": {},
   "outputs": [],
   "source": [
    "import numpy as np\n",
    "from sklearn.preprocessing import normalize\n",
    "\n",
    "\n",
    "class OurNMF:\n",
    "    def __init__(self, n_components, learn_iter=200):\n",
    "        self.n_components_ = n_components\n",
    "        self.learn_iter_ = learn_iter\n",
    "        \n",
    "    # Private method - core functionality\n",
    "    def __nmf(self, input_df):\n",
    "        input_matrix = input_df.to_numpy().T\n",
    "        activations = np.random.rand(self.n_components_, input_matrix.shape[1])\n",
    "        basis_vectors = np.random.rand(input_matrix.shape[0], self.n_components_)\n",
    "        basis_vectors = normalize(basis_vectors)\n",
    "        ones = np.ones(input_matrix.shape)\n",
    "    \n",
    "        for i in range(self.learn_iter_):\n",
    "            activations *= ((basis_vectors.T @ (input_matrix / (basis_vectors @ activations))) / (basis_vectors.T @ ones))\n",
    "            basis_vectors *= (((input_matrix / (basis_vectors @ activations)) @ activations.T) / (ones @ activations.T))\n",
    "            \n",
    "            activations = np.nan_to_num(activations)\n",
    "            basis_vectors = np.nan_to_num(basis_vectors)\n",
    "#             print(basis_vectors.dtype)\n",
    "#             print(True in np.isnan(basis_vectors))\n",
    "#             print(True in np.isinf(basis_vectors))\n",
    "            \n",
    "            basis_vectors = normalize(basis_vectors)\n",
    "            \n",
    "        return basis_vectors.T, activations.T\n",
    "    \n",
    "    # Public methods\n",
    "    # Useless function - similar to scikit-learn, but call fit_transform to get transformed values back\n",
    "    def fit(self, input_df):\n",
    "        self.basis_vecs_, self.trans_vals_ = self.__nmf(input_df)\n",
    "        \n",
    "    def fit_transform(self, input_df):\n",
    "        self.basis_vecs_, self.trans_vals_ = self.__nmf(input_df)\n",
    "        return self.trans_vals_\n"
   ]
  },
  {
   "cell_type": "markdown",
   "metadata": {},
   "source": [
    "## **Validate our Implementation**\n",
    "Let's validate our implementation of NMF by comparing its results with the NMF method provided by a trusted and widely-used machine learning library.\n",
    "\n",
    "This library is called [scikit-learn](https://scikit-learn.org/stable/) and its NMF documentation can be found [here](https://scikit-learn.org/stable/modules/generated/sklearn.decomposition.NMF.html).\n",
    "\n",
    "***Note -- Scikit-Learn Documentation Error:***\n",
    "On the NMF documentation page, variable names *W* and *H* are swapped which can be very **misleading**. They call *W* the transformed data, and *H* the factorization matrix (dictionary elements). In reality, *W* is this factorization matrix, and *H* is the transformed data *(no documentation is perfect, even for scikit-learn)*."
   ]
  },
  {
   "cell_type": "markdown",
   "metadata": {},
   "source": [
    "#### **Dataset Creation**\n",
    "To begin, let's make a dataset for our NMFs. We use another python library, [pandas](https://pandas.pydata.org/), to handle datasets."
   ]
  },
  {
   "cell_type": "code",
   "execution_count": 2,
   "metadata": {},
   "outputs": [
    {
     "data": {
      "text/html": [
       "<div>\n",
       "<style scoped>\n",
       "    .dataframe tbody tr th:only-of-type {\n",
       "        vertical-align: middle;\n",
       "    }\n",
       "\n",
       "    .dataframe tbody tr th {\n",
       "        vertical-align: top;\n",
       "    }\n",
       "\n",
       "    .dataframe thead th {\n",
       "        text-align: right;\n",
       "    }\n",
       "</style>\n",
       "<table border=\"1\" class=\"dataframe\">\n",
       "  <thead>\n",
       "    <tr style=\"text-align: right;\">\n",
       "      <th></th>\n",
       "      <th>A</th>\n",
       "      <th>C</th>\n",
       "      <th>D</th>\n",
       "      <th>E</th>\n",
       "      <th>K</th>\n",
       "      <th>L</th>\n",
       "      <th>M</th>\n",
       "      <th>ans</th>\n",
       "    </tr>\n",
       "  </thead>\n",
       "  <tbody>\n",
       "    <tr>\n",
       "      <td>0</td>\n",
       "      <td>1.00</td>\n",
       "      <td>3</td>\n",
       "      <td>9</td>\n",
       "      <td>43.76</td>\n",
       "      <td>1</td>\n",
       "      <td>0</td>\n",
       "      <td>0</td>\n",
       "      <td>1</td>\n",
       "    </tr>\n",
       "    <tr>\n",
       "      <td>1</td>\n",
       "      <td>0.99</td>\n",
       "      <td>3</td>\n",
       "      <td>8</td>\n",
       "      <td>43.45</td>\n",
       "      <td>0</td>\n",
       "      <td>1</td>\n",
       "      <td>0</td>\n",
       "      <td>0</td>\n",
       "    </tr>\n",
       "    <tr>\n",
       "      <td>2</td>\n",
       "      <td>0.54</td>\n",
       "      <td>0</td>\n",
       "      <td>23</td>\n",
       "      <td>54.65</td>\n",
       "      <td>0</td>\n",
       "      <td>0</td>\n",
       "      <td>1</td>\n",
       "      <td>1</td>\n",
       "    </tr>\n",
       "    <tr>\n",
       "      <td>3</td>\n",
       "      <td>1.00</td>\n",
       "      <td>0</td>\n",
       "      <td>12</td>\n",
       "      <td>40.15</td>\n",
       "      <td>0</td>\n",
       "      <td>0</td>\n",
       "      <td>1</td>\n",
       "      <td>0</td>\n",
       "    </tr>\n",
       "    <tr>\n",
       "      <td>4</td>\n",
       "      <td>0.32</td>\n",
       "      <td>1</td>\n",
       "      <td>12</td>\n",
       "      <td>89.04</td>\n",
       "      <td>0</td>\n",
       "      <td>1</td>\n",
       "      <td>0</td>\n",
       "      <td>1</td>\n",
       "    </tr>\n",
       "    <tr>\n",
       "      <td>5</td>\n",
       "      <td>0.43</td>\n",
       "      <td>4</td>\n",
       "      <td>11</td>\n",
       "      <td>49.04</td>\n",
       "      <td>0</td>\n",
       "      <td>1</td>\n",
       "      <td>0</td>\n",
       "      <td>0</td>\n",
       "    </tr>\n",
       "    <tr>\n",
       "      <td>6</td>\n",
       "      <td>0.99</td>\n",
       "      <td>1</td>\n",
       "      <td>10</td>\n",
       "      <td>34.54</td>\n",
       "      <td>0</td>\n",
       "      <td>0</td>\n",
       "      <td>1</td>\n",
       "      <td>0</td>\n",
       "    </tr>\n",
       "  </tbody>\n",
       "</table>\n",
       "</div>"
      ],
      "text/plain": [
       "      A  C   D      E  K  L  M  ans\n",
       "0  1.00  3   9  43.76  1  0  0    1\n",
       "1  0.99  3   8  43.45  0  1  0    0\n",
       "2  0.54  0  23  54.65  0  0  1    1\n",
       "3  1.00  0  12  40.15  0  0  1    0\n",
       "4  0.32  1  12  89.04  0  1  0    1\n",
       "5  0.43  4  11  49.04  0  1  0    0\n",
       "6  0.99  1  10  34.54  0  0  1    0"
      ]
     },
     "execution_count": 2,
     "metadata": {},
     "output_type": "execute_result"
    }
   ],
   "source": [
    "import pandas as pd\n",
    "\n",
    "dummy_data = [{'A': 1.00, 'B': 'K', 'C': 3, 'D': 9, 'E': 43.76, 'ans': 1},\n",
    "              {'A': 0.99, 'B': 'L', 'C': 3, 'D': 8, 'E': 43.45, 'ans': 0},\n",
    "              {'A': 0.54, 'B': 'M', 'C': 0, 'D': 23, 'E': 54.65, 'ans': 1},\n",
    "              {'A': 1.00, 'B': 'M', 'C': 0, 'D': 12, 'E': 40.15, 'ans': 0},\n",
    "              {'A': 0.32, 'B': 'L', 'C': 1, 'D': 12, 'E': 89.04, 'ans': 1},\n",
    "              {'A': 0.43, 'B': 'L', 'C': 4, 'D': 11, 'E': 49.04, 'ans': 0},\n",
    "              {'A': 0.99, 'B': 'M', 'C': 1, 'D': 10, 'E': 34.54, 'ans': 0}]\n",
    "\n",
    "dummy_df = pd.DataFrame(dummy_data)\n",
    "# Transform categorical features ('B') into quantitative ones ('K', 'L', 'M') via get_dummies (one-hot encoding)\n",
    "quant = pd.get_dummies(dummy_df['B'])\n",
    "labels = dummy_df['ans']\n",
    "dummy_df = dummy_df.drop('B', axis=1).drop('ans', axis=1)\n",
    "dummy_df = pd.concat((dummy_df, quant, labels), axis=1)\n",
    "dummy_df"
   ]
  },
  {
   "cell_type": "markdown",
   "metadata": {},
   "source": [
    "#### **Comparison**\n",
    "A good way to see if our NMF works is by performing a common use case for dimensionality reduction: visualizing data."
   ]
  },
  {
   "cell_type": "code",
   "execution_count": 3,
   "metadata": {},
   "outputs": [
    {
     "data": {
      "text/plain": [
       "<matplotlib.axes._subplots.AxesSubplot at 0x7f6cad112550>"
      ]
     },
     "execution_count": 3,
     "metadata": {},
     "output_type": "execute_result"
    },
    {
     "data": {
      "image/png": "[encoded data removed]",
      "text/plain": [
       "<Figure size 432x288 with 1 Axes>"
      ]
     },
     "metadata": {
      "needs_background": "light"
     },
     "output_type": "display_data"
    },
    {
     "data": {
      "image/png": "[encoded data removed]",
      "text/plain": [
       "<Figure size 432x288 with 1 Axes>"
      ]
     },
     "metadata": {
      "needs_background": "light"
     },
     "output_type": "display_data"
    }
   ],
   "source": [
    "%matplotlib inline\n",
    "from sklearn.decomposition import NMF\n",
    "\n",
    "sklearn_nmf = NMF(n_components=2, init='random', solver='mu', beta_loss='kullback-leibler')\n",
    "our_nmf = OurNMF(n_components=2)\n",
    "\n",
    "sklearn_trans_df = pd.DataFrame(sklearn_nmf.fit_transform(dummy_df), columns=['BV1', 'BV2'])\n",
    "our_trans_df = pd.DataFrame(our_nmf.fit_transform(dummy_df), columns=['BV1', 'BV2'])\n",
    "\n",
    "# display(sklearn_trans_df)\n",
    "# display(our_trans_df)\n",
    "\n",
    "sklearn_trans_df.plot.scatter(x='BV1', y='BV2', title='Scikit-Learn\\'s NMF Dim-Reduced Dataset')\n",
    "our_trans_df.plot.scatter(x='BV1', y='BV2', title='Our NMF Dim-Reduced Dataset')"
   ]
  },
  {
   "cell_type": "markdown",
   "metadata": {},
   "source": [
    "This is great, our NMF works! 🎉🎉 Since the data on both charts look similar, it seems that both our and scikit-learn's NMF find the same way to represent this data in lower dimension.\n",
    "\n",
    "*Note -- if you don't see a similarity between plots and the axes look flipped:* Run the previous code cell 1-2 more times until they match. This happens because in NMF each basis vector equally contributes to recreating the dataset, so their ordering isn't meaningful, thus not needing consistency. We just want to see when the two basis vectors from our NMF is in the same order as scikit-learn NMF's two basis vectors - when this happens, the transformed values corresponding to a basis vector will appear on the same axis as the other chart's axis."
   ]
  },
  {
   "cell_type": "markdown",
   "metadata": {},
   "source": [
    "## **Experimentation**"
   ]
  },
  {
   "cell_type": "markdown",
   "metadata": {},
   "source": [
    "#### Notes\n",
    "#### To-fill-in next:\n",
    "- Experimentation = Comparisons of our NMF to PCA\n",
    "    - 1) Compare prediction performance between a weak classifer given NMF-dim-reduced data & a weak classifier given PCA-dim-reduced data (synthetic dataset)\n",
    "        - analysis: observe the differences in performance, and maybe see if NMF is better or worse than PCA for this use-case\n",
    "    - 2) Make a Pearson correlation matrix between NMF and PCA on BVs/PCs and/or transformed values\n",
    "        - analysis: see if NMF and PCA is correlated (hopefully not - casue theyre different methods)\n",
    "    - ? 3) Compare visualization of data when we do NMF and PCA on titanic dataset to bring it down to 2 dimensions for charting (scatter plots)\n",
    "        - analysis: see if NMF or PCA visualizes the titanic data better, or maybe if one's better at visualizing previously-quantitative (i.e. pclass) / quantitative (i.e. age) features than the other"
   ]
  },
  {
   "cell_type": "markdown",
   "metadata": {},
   "source": [
    "#### **Use Case: Resolving the Curse of Dimensionality**\n",
    "Too Many Dimensions for a Weak Classifier. Let's begin by pre-processing a real dataset into quantitative, non-negative form. We'll be sure to fill in missing values, and scale our data so that no features with large values unfairly skew the learning of our classifier."
   ]
  },
  {
   "cell_type": "code",
   "execution_count": 4,
   "metadata": {},
   "outputs": [
    {
     "data": {
      "text/plain": [
       "(1309, 720)"
      ]
     },
     "metadata": {},
     "output_type": "display_data"
    },
    {
     "data": {
      "text/html": [
       "<div>\n",
       "<style scoped>\n",
       "    .dataframe tbody tr th:only-of-type {\n",
       "        vertical-align: middle;\n",
       "    }\n",
       "\n",
       "    .dataframe tbody tr th {\n",
       "        vertical-align: top;\n",
       "    }\n",
       "\n",
       "    .dataframe thead th {\n",
       "        text-align: right;\n",
       "    }\n",
       "</style>\n",
       "<table border=\"1\" class=\"dataframe\">\n",
       "  <thead>\n",
       "    <tr style=\"text-align: right;\">\n",
       "      <th></th>\n",
       "      <th>age</th>\n",
       "      <th>sibsp</th>\n",
       "      <th>parch</th>\n",
       "      <th>fare</th>\n",
       "      <th>pclass 1</th>\n",
       "      <th>pclass 2</th>\n",
       "      <th>pclass 3</th>\n",
       "      <th>female</th>\n",
       "      <th>male</th>\n",
       "      <th>1</th>\n",
       "      <th>...</th>\n",
       "      <th>Winnipeg, MB</th>\n",
       "      <th>Winnipeg, MN</th>\n",
       "      <th>Woodford County, KY</th>\n",
       "      <th>Worcester, England</th>\n",
       "      <th>Worcester, MA</th>\n",
       "      <th>Yoevil, England / Cottage Grove, OR</th>\n",
       "      <th>Youngstown, OH</th>\n",
       "      <th>Zurich, Switzerland</th>\n",
       "      <th>home.dest unknown</th>\n",
       "      <th>survived</th>\n",
       "    </tr>\n",
       "  </thead>\n",
       "  <tbody>\n",
       "    <tr>\n",
       "      <td>0</td>\n",
       "      <td>0.361169</td>\n",
       "      <td>0.000</td>\n",
       "      <td>0.000000</td>\n",
       "      <td>0.412503</td>\n",
       "      <td>1</td>\n",
       "      <td>0</td>\n",
       "      <td>0</td>\n",
       "      <td>1</td>\n",
       "      <td>0</td>\n",
       "      <td>0</td>\n",
       "      <td>...</td>\n",
       "      <td>0</td>\n",
       "      <td>0</td>\n",
       "      <td>0</td>\n",
       "      <td>0</td>\n",
       "      <td>0</td>\n",
       "      <td>0</td>\n",
       "      <td>0</td>\n",
       "      <td>0</td>\n",
       "      <td>0</td>\n",
       "      <td>1</td>\n",
       "    </tr>\n",
       "    <tr>\n",
       "      <td>1</td>\n",
       "      <td>0.009395</td>\n",
       "      <td>0.125</td>\n",
       "      <td>0.222222</td>\n",
       "      <td>0.295806</td>\n",
       "      <td>1</td>\n",
       "      <td>0</td>\n",
       "      <td>0</td>\n",
       "      <td>0</td>\n",
       "      <td>1</td>\n",
       "      <td>0</td>\n",
       "      <td>...</td>\n",
       "      <td>0</td>\n",
       "      <td>0</td>\n",
       "      <td>0</td>\n",
       "      <td>0</td>\n",
       "      <td>0</td>\n",
       "      <td>0</td>\n",
       "      <td>0</td>\n",
       "      <td>0</td>\n",
       "      <td>0</td>\n",
       "      <td>1</td>\n",
       "    </tr>\n",
       "    <tr>\n",
       "      <td>2</td>\n",
       "      <td>0.022964</td>\n",
       "      <td>0.125</td>\n",
       "      <td>0.222222</td>\n",
       "      <td>0.295806</td>\n",
       "      <td>1</td>\n",
       "      <td>0</td>\n",
       "      <td>0</td>\n",
       "      <td>1</td>\n",
       "      <td>0</td>\n",
       "      <td>0</td>\n",
       "      <td>...</td>\n",
       "      <td>0</td>\n",
       "      <td>0</td>\n",
       "      <td>0</td>\n",
       "      <td>0</td>\n",
       "      <td>0</td>\n",
       "      <td>0</td>\n",
       "      <td>0</td>\n",
       "      <td>0</td>\n",
       "      <td>0</td>\n",
       "      <td>0</td>\n",
       "    </tr>\n",
       "    <tr>\n",
       "      <td>3</td>\n",
       "      <td>0.373695</td>\n",
       "      <td>0.125</td>\n",
       "      <td>0.222222</td>\n",
       "      <td>0.295806</td>\n",
       "      <td>1</td>\n",
       "      <td>0</td>\n",
       "      <td>0</td>\n",
       "      <td>0</td>\n",
       "      <td>1</td>\n",
       "      <td>0</td>\n",
       "      <td>...</td>\n",
       "      <td>0</td>\n",
       "      <td>0</td>\n",
       "      <td>0</td>\n",
       "      <td>0</td>\n",
       "      <td>0</td>\n",
       "      <td>0</td>\n",
       "      <td>0</td>\n",
       "      <td>0</td>\n",
       "      <td>0</td>\n",
       "      <td>0</td>\n",
       "    </tr>\n",
       "    <tr>\n",
       "      <td>4</td>\n",
       "      <td>0.311064</td>\n",
       "      <td>0.125</td>\n",
       "      <td>0.222222</td>\n",
       "      <td>0.295806</td>\n",
       "      <td>1</td>\n",
       "      <td>0</td>\n",
       "      <td>0</td>\n",
       "      <td>1</td>\n",
       "      <td>0</td>\n",
       "      <td>0</td>\n",
       "      <td>...</td>\n",
       "      <td>0</td>\n",
       "      <td>0</td>\n",
       "      <td>0</td>\n",
       "      <td>0</td>\n",
       "      <td>0</td>\n",
       "      <td>0</td>\n",
       "      <td>0</td>\n",
       "      <td>0</td>\n",
       "      <td>0</td>\n",
       "      <td>0</td>\n",
       "    </tr>\n",
       "  </tbody>\n",
       "</table>\n",
       "<p>5 rows × 720 columns</p>\n",
       "</div>"
      ],
      "text/plain": [
       "        age  sibsp     parch      fare  pclass 1  pclass 2  pclass 3  female  \\\n",
       "0  0.361169  0.000  0.000000  0.412503         1         0         0       1   \n",
       "1  0.009395  0.125  0.222222  0.295806         1         0         0       0   \n",
       "2  0.022964  0.125  0.222222  0.295806         1         0         0       1   \n",
       "3  0.373695  0.125  0.222222  0.295806         1         0         0       0   \n",
       "4  0.311064  0.125  0.222222  0.295806         1         0         0       1   \n",
       "\n",
       "   male  1  ...  Winnipeg, MB  Winnipeg, MN  Woodford County, KY  \\\n",
       "0     0  0  ...             0             0                    0   \n",
       "1     1  0  ...             0             0                    0   \n",
       "2     0  0  ...             0             0                    0   \n",
       "3     1  0  ...             0             0                    0   \n",
       "4     0  0  ...             0             0                    0   \n",
       "\n",
       "   Worcester, England  Worcester, MA  Yoevil, England / Cottage Grove, OR  \\\n",
       "0                   0              0                                    0   \n",
       "1                   0              0                                    0   \n",
       "2                   0              0                                    0   \n",
       "3                   0              0                                    0   \n",
       "4                   0              0                                    0   \n",
       "\n",
       "   Youngstown, OH  Zurich, Switzerland  home.dest unknown  survived  \n",
       "0               0                    0                  0         1  \n",
       "1               0                    0                  0         1  \n",
       "2               0                    0                  0         0  \n",
       "3               0                    0                  0         0  \n",
       "4               0                    0                  0         0  \n",
       "\n",
       "[5 rows x 720 columns]"
      ]
     },
     "execution_count": 4,
     "metadata": {},
     "output_type": "execute_result"
    }
   ],
   "source": [
    "from sklearn.preprocessing import MinMaxScaler\n",
    "\n",
    "titanic_df = pd.read_csv(\n",
    "    \"https://raw.githubusercontent.com/dlsun/data-science-book/master/data/titanic.csv\"\n",
    ")\n",
    "\n",
    "titanic_df = titanic_df.drop(\"name\", axis=1)\n",
    "titanic_df = titanic_df.drop(\"ticket\", axis=1)\n",
    "\n",
    "# 0) filling missing data\n",
    "titanic_df = titanic_df.replace([np.inf, -np.inf], np.nan)\n",
    "titanic_df[\"age\"] = titanic_df[\"age\"].fillna(value=titanic_df[\"age\"].mean())\n",
    "titanic_df[\"fare\"] = titanic_df[\"fare\"].fillna(value=0.0)\n",
    "\n",
    "# 1) Scale the quantitative vars\n",
    "quant_feat = [\"age\", \"sibsp\", \"parch\", \"fare\"]\n",
    "scaler = MinMaxScaler()\n",
    "quant_titanic_df = titanic_df[quant_feat]\n",
    "quant_titanic_df = pd.DataFrame(scaler.fit_transform(quant_titanic_df), columns=quant_feat)\n",
    "\n",
    "titanic_df = titanic_df.drop(quant_feat, axis=1)\n",
    "titanic_df = pd.concat((titanic_df, quant_titanic_df), axis=1)\n",
    "\n",
    "# 2) Encode catagorical variables to quantitative variables\n",
    "catagorical_to_quantitative_maps = {}\n",
    "\n",
    "# pclass\n",
    "pclass_quant = pd.get_dummies(titanic_df[\"pclass\"])\n",
    "pclass_quant[\"pclass 1\"] = pclass_quant[1]\n",
    "pclass_quant = pclass_quant.drop(1, axis=1)\n",
    "pclass_quant[\"pclass 2\"] = pclass_quant[2]\n",
    "pclass_quant = pclass_quant.drop(2, axis=1)\n",
    "pclass_quant[\"pclass 3\"] = pclass_quant[3]\n",
    "pclass_quant = pclass_quant.drop(3, axis=1)\n",
    "titanic_df = titanic_df.drop('pclass', axis=1)\n",
    "titanic_df = pd.concat((titanic_df, pclass_quant), axis=1)\n",
    "\n",
    "# gender\n",
    "catagorical_to_quantitative_maps[\"sex\"] = list(titanic_df[\"sex\"].unique())\n",
    "gender_catagories = pd.DataFrame(pd.get_dummies(titanic_df[\"sex\"]))\n",
    "titanic_df = titanic_df.drop(\"sex\", axis = 1)\n",
    "titanic_df= pd.concat([titanic_df, gender_catagories], axis = 1)\n",
    "   \n",
    "# boat\n",
    "titanic_df[\"boat\"] = titanic_df[\"boat\"].fillna(value=\"No boat\")\n",
    "catagorical_to_quantitative_maps[\"boat\"] = list(titanic_df[\"boat\"].unique())\n",
    "boat_catagories = pd.DataFrame(pd.get_dummies(titanic_df[\"boat\"]))\n",
    "titanic_df = titanic_df.drop(\"boat\", axis = 1)\n",
    "titanic_df = pd.concat([titanic_df, boat_catagories], axis = 1)\n",
    "# adjust a few columns to aviod running into problems when creating a column with the same name\n",
    "# will need to consider this when going backwards\n",
    "titanic_df[\"boat C\"] = titanic_df[\"C\"]\n",
    "titanic_df = titanic_df.drop(\"C\", axis=1)\n",
    "catagorical_to_quantitative_maps[\"boat\"].append(\"boat C\")\n",
    "catagorical_to_quantitative_maps[\"boat\"].remove(\"C\")\n",
    "titanic_df[\"boat D\"] = titanic_df[\"D\"]\n",
    "titanic_df = titanic_df.drop(\"D\", axis=1)\n",
    "catagorical_to_quantitative_maps[\"boat\"].append(\"boat D\")\n",
    "catagorical_to_quantitative_maps[\"boat\"].remove(\"D\")\n",
    "\n",
    "#cabin\n",
    "catagorical_to_quantitative_maps[\"cabin\"] = list(titanic_df[\"cabin\"].unique())\n",
    "cabins = pd.DataFrame(pd.get_dummies(titanic_df[\"cabin\"]))\n",
    "titanic_df = titanic_df.drop(\"cabin\", axis = 1)\n",
    "titanic_df = pd.concat([titanic_df, cabins], axis = 1)\n",
    "\n",
    "#embarked\n",
    "titanic_df[\"embarked\"] = titanic_df[\"embarked\"].fillna(value=\"entrance unknown\")\n",
    "catagorical_to_quantitative_maps[\"embarked\"] = list(titanic_df[\"embarked\"].unique())\n",
    "entrances = pd.DataFrame(pd.get_dummies(titanic_df[\"embarked\"]))\n",
    "titanic_df = titanic_df.drop(\"embarked\", axis = 1)\n",
    "titanic_df = pd.concat([titanic_df, entrances], axis = 1)\n",
    "\n",
    "#body\n",
    "titanic_df[\"body\"] = titanic_df[\"body\"].fillna(value=\"body unknown\")\n",
    "catagorical_to_quantitative_maps[\"body\"] = list(titanic_df[\"body\"].unique())\n",
    "bodies = pd.DataFrame(pd.get_dummies(titanic_df[\"body\"]))\n",
    "titanic_df = titanic_df.drop(\"body\", axis = 1)\n",
    "titanic_df = pd.concat([titanic_df, bodies], axis = 1)\n",
    "\n",
    "#home.dest\n",
    "titanic_df[\"home.dest\"] = titanic_df[\"home.dest\"].fillna(value=\"home.dest unknown\")\n",
    "catagorical_to_quantitative_maps[\"home.dest\"] = list(titanic_df[\"home.dest\"].unique())\n",
    "destinations = pd.DataFrame(pd.get_dummies(titanic_df[\"home.dest\"]))\n",
    "titanic_df = titanic_df.drop(\"home.dest\", axis = 1)\n",
    "titanic_df = pd.concat([titanic_df, destinations], axis = 1)\n",
    "\n",
    "# Put class labels on the end\n",
    "survived = titanic_df['survived']\n",
    "titanic_df = titanic_df.drop('survived', axis=1)\n",
    "titanic_df = pd.concat((titanic_df, survived), axis=1)\n",
    "\n",
    "display(titanic_df.shape)\n",
    "titanic_df.head()"
   ]
  },
  {
   "cell_type": "markdown",
   "metadata": {},
   "source": [
    "Let's do ourselves a NMF non-negativity constraint sanity check, and see if we have any negative values in our dataset."
   ]
  },
  {
   "cell_type": "code",
   "execution_count": 5,
   "metadata": {},
   "outputs": [
    {
     "name": "stdout",
     "output_type": "stream",
     "text": [
      "Number of neg vals: 0\n"
     ]
    }
   ],
   "source": [
    "print('Number of neg vals:', (titanic_df < 0).sum().sum())"
   ]
  },
  {
   "cell_type": "markdown",
   "metadata": {},
   "source": [
    "Nope! So, now let's make this dataset hard for a classifier by using a small amount of samples, and adding many unimportant features - these are essentially noise for a classifier."
   ]
  },
  {
   "cell_type": "code",
   "execution_count": 6,
   "metadata": {},
   "outputs": [
    {
     "data": {
      "text/plain": [
       "(200, 2720)"
      ]
     },
     "metadata": {},
     "output_type": "display_data"
    },
    {
     "data": {
      "text/plain": [
       "0"
      ]
     },
     "execution_count": 6,
     "metadata": {},
     "output_type": "execute_result"
    }
   ],
   "source": [
    "n_samples = 200\n",
    "Xy = titanic_df.sample(frac=1.0)[:n_samples]\n",
    "Xy.index = range(n_samples)\n",
    "\n",
    "# 3) Put random vars in (already in min-max scale range)\n",
    "noise = pd.DataFrame(np.random.random(size=(n_samples, 2000)), columns=['noise_f' + str(x) for x in range(2000)])\n",
    "Xy = pd.concat((noise, Xy), axis=1)\n",
    "\n",
    "X = Xy.drop('survived', axis=1)\n",
    "y = Xy['survived']\n",
    "\n",
    "display(Xy.shape)\n",
    "Xy.head()\n",
    "\n",
    "X.isnull().sum().sum()"
   ]
  },
  {
   "cell_type": "code",
   "execution_count": 7,
   "metadata": {},
   "outputs": [
    {
     "name": "stdout",
     "output_type": "stream",
     "text": [
      "Logistic Regression Avg Accuracy Score (Bad): 0.8253333333333334\n"
     ]
    }
   ],
   "source": [
    "from sklearn.metrics import accuracy_score\n",
    "from sklearn.model_selection import train_test_split\n",
    "from sklearn.linear_model import LogisticRegression\n",
    "\n",
    "# Problem: simple classifiers like linear regression handle poorly with datasets that have:\n",
    "# - massive dimension (feature count) compared to sample size\n",
    "# - few important features\n",
    "\n",
    "pred_iterations = 30\n",
    "accs = []\n",
    "logreg_model = LogisticRegression()\n",
    "for _ in range(pred_iterations):\n",
    "    X_train, X_test, y_train, y_test = train_test_split(X, y)\n",
    "    logreg_model.fit(X_train, y_train)\n",
    "    y_pred = logreg_model.predict(X_test)\n",
    "    \n",
    "    acc_score = accuracy_score(y_pred, y_test)\n",
    "    accs.append(acc_score)\n",
    "\n",
    "print('Logistic Regression Avg Accuracy Score (Bad):', np.mean(accs))"
   ]
  },
  {
   "cell_type": "code",
   "execution_count": null,
   "metadata": {},
   "outputs": [
    {
     "name": "stderr",
     "output_type": "stream",
     "text": [
      "/opt/conda/lib/python3.7/site-packages/ipykernel_launcher.py:19: RuntimeWarning: invalid value encountered in true_divide\n",
      "/opt/conda/lib/python3.7/site-packages/ipykernel_launcher.py:19: RuntimeWarning: divide by zero encountered in true_divide\n",
      "/opt/conda/lib/python3.7/site-packages/ipykernel_launcher.py:19: RuntimeWarning: invalid value encountered in matmul\n"
     ]
    }
   ],
   "source": [
    "from sklearn.decomposition import PCA\n",
    "# Solution: simple classifiers can handle these datasets better, after dimensionality reduction is applied\n",
    "# If we reduce dimensions on a dataset via NMF & sklearn PCA, and then predict at each dimension drop, does lin. reg. performance increase?\n",
    "min_dim = 2\n",
    "dim_nmf_accs, dim_pca_accs = [], []\n",
    "\n",
    "# Track how prediction performance differs with amount of dimensions\n",
    "# num of dim must be <= min dimension of our X for sklearn NMF\n",
    "for dim_num in range(min_dim, min(X.shape) + 1, 10): \n",
    "\n",
    "    # Perform PCA and NMF on same dataset\n",
    "    nmf_model = OurNMF(n_components=dim_num)\n",
    "    X_nmftrans = pd.DataFrame(nmf_model.fit_transform(X))\n",
    "    \n",
    "    pca_model = PCA(n_components=dim_num)\n",
    "    X_pcatrans = pd.DataFrame(pca_model.fit_transform(X))\n",
    "    \n",
    "    nmf_accs, pca_accs = [], []\n",
    "    for _ in range(pred_iterations):\n",
    "\n",
    "        X_train, X_test, y_train, y_test = train_test_split(X_nmftrans, y)\n",
    "        logreg_model.fit(X_train, y_train)\n",
    "        y_pred = logreg_model.predict(X_test)\n",
    "        nmf_accs.append(accuracy_score(y_pred, y_test))\n",
    "        \n",
    "        X_train, X_test, y_train, y_test = train_test_split(X_pcatrans, y)\n",
    "        logreg_model.fit(X_train, y_train)\n",
    "        y_pred = logreg_model.predict(X_test)\n",
    "        pca_accs.append(accuracy_score(y_pred, y_test))\n",
    "\n",
    "    dim_nmf_accs.append(np.mean(nmf_accs))\n",
    "    dim_pca_accs.append(np.mean(pca_accs))\n",
    "    \n",
    "nmf_logreg_accs = pd.Series(dim_nmf_accs)\n",
    "pca_logreg_accs = pd.Series(dim_pca_accs)"
   ]
  },
  {
   "cell_type": "code",
   "execution_count": null,
   "metadata": {},
   "outputs": [],
   "source": [
    "index = range(min_dim, min(X.shape) + 1, 10)\n",
    "nmf_logreg_accs.index = index\n",
    "pca_logreg_accs.index = index\n",
    "\n",
    "nmf_logreg_accs.plot.line(title='LogReg Accuracy for PCA and NMF Dim-Reduced Data', legend=True, label='NMF', figsize=(15,8))\n",
    "ax = pca_logreg_accs.plot.line(legend=True, label='PCA')\n",
    "ax.set_xlabel(\"Dimensions\")"
   ]
  },
  {
   "cell_type": "code",
   "execution_count": null,
   "metadata": {},
   "outputs": [],
   "source": []
  }
 ],
 "metadata": {
  "kernelspec": {
   "display_name": "Python 3",
   "language": "python",
   "name": "python3"
  },
  "language_info": {
   "codemirror_mode": {
    "name": "ipython",
    "version": 3
   },
   "file_extension": ".py",
   "mimetype": "text/x-python",
   "name": "python",
   "nbconvert_exporter": "python",
   "pygments_lexer": "ipython3",
   "version": "3.7.3"
  }
 },
 "nbformat": 4,
 "nbformat_minor": 4
}
