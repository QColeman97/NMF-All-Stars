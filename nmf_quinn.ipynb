{
 "cells": [
  {
   "cell_type": "markdown",
   "metadata": {},
   "source": [
    "## NMF Implementation for Dimensionality Reduction"
   ]
  },
  {
   "cell_type": "code",
   "execution_count": 30,
   "metadata": {},
   "outputs": [],
   "source": [
    "# Imports cell\n",
    "import numpy as np\n",
    "import pandas as pd\n",
    "\n",
    "from sklearn.preprocessing import normalize\n",
    "\n",
    "from sklearn.decomposition import PCA\n",
    "from sklearn.decomposition import NMF\n",
    "\n",
    "from sklearn.cluster import KMeans\n",
    "\n",
    "from sklearn.metrics import accuracy_score"
   ]
  },
  {
   "cell_type": "markdown",
   "metadata": {},
   "source": [
    "### KL-NMF Multiplicative Update Formulas:\n",
    "Hnext = H * ((Wt dot (V / (W dot H))) / (Wt dot 1) )\n",
    "\n",
    "Wnext = W * (((V / (W dot H)) dot Ht) / (1 dot Ht) )\n",
    "\n",
    "#### TODO Note: Normalize the basis vectors - Sun\n",
    "***Note -- scikit-learn's NMF usage documentation is misleading:***\n",
    "*They call W the transformed data, and H the factorization matrix (dictionary elements). In reality, W is the factorization matrix (dictionary elements), and H is the transformed data*"
   ]
  },
  {
   "cell_type": "code",
   "execution_count": 31,
   "metadata": {},
   "outputs": [],
   "source": [
    "class OurNMF:\n",
    "    def __init__(self, n_components, learn_iter=200):\n",
    "        self.n_components_ = n_components\n",
    "        self.learn_iter_ = learn_iter\n",
    "    \n",
    "    # Private method - core functionality\n",
    "    def __nmf(self, input_df):\n",
    "        input_matrix = input_df.to_numpy().T\n",
    "        activations = np.random.rand(self.n_components_, input_matrix.shape[1])\n",
    "        basis_vectors = np.random.rand(input_matrix.shape[0], self.n_components_)\n",
    "        basis_vectors = normalize(basis_vectors)\n",
    "        ones = np.ones(input_matrix.shape)\n",
    "    \n",
    "        for _ in range(self.learn_iter_):\n",
    "            activations *= ((basis_vectors.T @ (input_matrix / (basis_vectors @ activations))) / (basis_vectors.T @ ones))\n",
    "            basis_vectors *= (((input_matrix / (basis_vectors @ activations)) @ activations.T) / (ones @ activations.T))\n",
    "            basis_vectors = normalize(basis_vectors)\n",
    "            \n",
    "        return basis_vectors.T, activations.T\n",
    "    \n",
    "    # Public methods\n",
    "    # Useless function - similar to scikit-learn, but call fit_transform to get transformed values back\n",
    "    def fit(self, input_df):\n",
    "        self.basis_vecs_, self.trans_vals_ = self.__nmf(input_df)\n",
    "        \n",
    "    def fit_transform(self, input_df):\n",
    "        self.basis_vecs_, self.trans_vals_ = self.__nmf(input_df)\n",
    "        return self.trans_vals_\n",
    "\n",
    "\n",
    "def my_nmf(input_df, n_components, learn_iter=200):\n",
    "    input_matrix = input_df.to_numpy().T\n",
    "    \n",
    "#     print('Input Matrix Shape:\\n', input_matrix.shape)\n",
    "#     print('n comp:', n_components)\n",
    "    \n",
    "    activations = np.random.rand(n_components, input_matrix.shape[1])\n",
    "    basis_vectors = np.random.rand(input_matrix.shape[0], n_components)\n",
    "    ones = np.ones(input_matrix.shape)\n",
    "    \n",
    "    basis_vectors = normalize(basis_vectors)\n",
    "    \n",
    "#     print('Activations:\\n', activations)\n",
    "#     print('Basis Vectors:\\n', basis_vectors)\n",
    "#     print('Ones:\\n', ones)\n",
    "    \n",
    "    for _ in range(learn_iter):\n",
    "        activations *= ((basis_vectors.T @ (input_matrix / (basis_vectors @ activations))) / (basis_vectors.T @ ones))\n",
    "        basis_vectors *= (((input_matrix / (basis_vectors @ activations)) @ activations.T) / (ones @ activations.T))\n",
    "        \n",
    "        basis_vectors = normalize(basis_vectors)\n",
    "    \n",
    "#     print('Activations:\\n', activations)\n",
    "#     print('Basis Vectors:\\n', basis_vectors)\n",
    "\n",
    "#     basis_vecs = pd.DataFrame(basis_vectors.T, columns=list(input_df.columns))\n",
    "#     trans_vals = pd.DataFrame(activations.T, columns=[('PC' + str(i + 1)) for i in range(n_components)])\n",
    "    \n",
    "#     return basis_vecs, trans_vals\n",
    "    return basis_vectors.T, activations.T"
   ]
  },
  {
   "cell_type": "markdown",
   "metadata": {},
   "source": [
    "## Temp Work Space"
   ]
  },
  {
   "cell_type": "code",
   "execution_count": 32,
   "metadata": {},
   "outputs": [
    {
     "data": {
      "text/html": [
       "<div>\n",
       "<style scoped>\n",
       "    .dataframe tbody tr th:only-of-type {\n",
       "        vertical-align: middle;\n",
       "    }\n",
       "\n",
       "    .dataframe tbody tr th {\n",
       "        vertical-align: top;\n",
       "    }\n",
       "\n",
       "    .dataframe thead th {\n",
       "        text-align: right;\n",
       "    }\n",
       "</style>\n",
       "<table border=\"1\" class=\"dataframe\">\n",
       "  <thead>\n",
       "    <tr style=\"text-align: right;\">\n",
       "      <th></th>\n",
       "      <th>A</th>\n",
       "      <th>B</th>\n",
       "      <th>C</th>\n",
       "      <th>D</th>\n",
       "      <th>E</th>\n",
       "      <th>ans</th>\n",
       "    </tr>\n",
       "  </thead>\n",
       "  <tbody>\n",
       "    <tr>\n",
       "      <td>0</td>\n",
       "      <td>1.00</td>\n",
       "      <td>K</td>\n",
       "      <td>3</td>\n",
       "      <td>9</td>\n",
       "      <td>43.76</td>\n",
       "      <td>1</td>\n",
       "    </tr>\n",
       "    <tr>\n",
       "      <td>1</td>\n",
       "      <td>0.99</td>\n",
       "      <td>L</td>\n",
       "      <td>3</td>\n",
       "      <td>8</td>\n",
       "      <td>43.45</td>\n",
       "      <td>0</td>\n",
       "    </tr>\n",
       "    <tr>\n",
       "      <td>2</td>\n",
       "      <td>0.54</td>\n",
       "      <td>M</td>\n",
       "      <td>0</td>\n",
       "      <td>23</td>\n",
       "      <td>54.65</td>\n",
       "      <td>1</td>\n",
       "    </tr>\n",
       "    <tr>\n",
       "      <td>3</td>\n",
       "      <td>1.00</td>\n",
       "      <td>M</td>\n",
       "      <td>0</td>\n",
       "      <td>12</td>\n",
       "      <td>40.15</td>\n",
       "      <td>0</td>\n",
       "    </tr>\n",
       "    <tr>\n",
       "      <td>4</td>\n",
       "      <td>0.32</td>\n",
       "      <td>L</td>\n",
       "      <td>1</td>\n",
       "      <td>12</td>\n",
       "      <td>89.04</td>\n",
       "      <td>1</td>\n",
       "    </tr>\n",
       "    <tr>\n",
       "      <td>5</td>\n",
       "      <td>0.43</td>\n",
       "      <td>L</td>\n",
       "      <td>4</td>\n",
       "      <td>11</td>\n",
       "      <td>49.04</td>\n",
       "      <td>0</td>\n",
       "    </tr>\n",
       "    <tr>\n",
       "      <td>6</td>\n",
       "      <td>0.99</td>\n",
       "      <td>M</td>\n",
       "      <td>1</td>\n",
       "      <td>10</td>\n",
       "      <td>34.54</td>\n",
       "      <td>0</td>\n",
       "    </tr>\n",
       "  </tbody>\n",
       "</table>\n",
       "</div>"
      ],
      "text/plain": [
       "      A  B  C   D      E  ans\n",
       "0  1.00  K  3   9  43.76    1\n",
       "1  0.99  L  3   8  43.45    0\n",
       "2  0.54  M  0  23  54.65    1\n",
       "3  1.00  M  0  12  40.15    0\n",
       "4  0.32  L  1  12  89.04    1\n",
       "5  0.43  L  4  11  49.04    0\n",
       "6  0.99  M  1  10  34.54    0"
      ]
     },
     "execution_count": 32,
     "metadata": {},
     "output_type": "execute_result"
    }
   ],
   "source": [
    "dummy_data = [{'A': 1.00, 'B': 'K', 'C': 3, 'D': 9, 'E': 43.76, 'ans': 1},\n",
    "              {'A': 0.99, 'B': 'L', 'C': 3, 'D': 8, 'E': 43.45, 'ans': 0},\n",
    "              {'A': 0.54, 'B': 'M', 'C': 0, 'D': 23, 'E': 54.65, 'ans': 1},\n",
    "              {'A': 1.00, 'B': 'M', 'C': 0, 'D': 12, 'E': 40.15, 'ans': 0},\n",
    "              {'A': 0.32, 'B': 'L', 'C': 1, 'D': 12, 'E': 89.04, 'ans': 1},\n",
    "              {'A': 0.43, 'B': 'L', 'C': 4, 'D': 11, 'E': 49.04, 'ans': 0},\n",
    "              {'A': 0.99, 'B': 'M', 'C': 1, 'D': 10, 'E': 34.54, 'ans': 0}]\n",
    "\n",
    "dummy_df = pd.DataFrame(dummy_data)\n",
    "dummy_df"
   ]
  },
  {
   "cell_type": "code",
   "execution_count": 33,
   "metadata": {},
   "outputs": [
    {
     "data": {
      "text/html": [
       "<div>\n",
       "<style scoped>\n",
       "    .dataframe tbody tr th:only-of-type {\n",
       "        vertical-align: middle;\n",
       "    }\n",
       "\n",
       "    .dataframe tbody tr th {\n",
       "        vertical-align: top;\n",
       "    }\n",
       "\n",
       "    .dataframe thead th {\n",
       "        text-align: right;\n",
       "    }\n",
       "</style>\n",
       "<table border=\"1\" class=\"dataframe\">\n",
       "  <thead>\n",
       "    <tr style=\"text-align: right;\">\n",
       "      <th></th>\n",
       "      <th>K</th>\n",
       "      <th>L</th>\n",
       "      <th>M</th>\n",
       "    </tr>\n",
       "  </thead>\n",
       "  <tbody>\n",
       "    <tr>\n",
       "      <td>0</td>\n",
       "      <td>1</td>\n",
       "      <td>0</td>\n",
       "      <td>0</td>\n",
       "    </tr>\n",
       "    <tr>\n",
       "      <td>1</td>\n",
       "      <td>0</td>\n",
       "      <td>1</td>\n",
       "      <td>0</td>\n",
       "    </tr>\n",
       "    <tr>\n",
       "      <td>2</td>\n",
       "      <td>0</td>\n",
       "      <td>0</td>\n",
       "      <td>1</td>\n",
       "    </tr>\n",
       "    <tr>\n",
       "      <td>3</td>\n",
       "      <td>0</td>\n",
       "      <td>0</td>\n",
       "      <td>1</td>\n",
       "    </tr>\n",
       "    <tr>\n",
       "      <td>4</td>\n",
       "      <td>0</td>\n",
       "      <td>1</td>\n",
       "      <td>0</td>\n",
       "    </tr>\n",
       "    <tr>\n",
       "      <td>5</td>\n",
       "      <td>0</td>\n",
       "      <td>1</td>\n",
       "      <td>0</td>\n",
       "    </tr>\n",
       "    <tr>\n",
       "      <td>6</td>\n",
       "      <td>0</td>\n",
       "      <td>0</td>\n",
       "      <td>1</td>\n",
       "    </tr>\n",
       "  </tbody>\n",
       "</table>\n",
       "</div>"
      ],
      "text/plain": [
       "   K  L  M\n",
       "0  1  0  0\n",
       "1  0  1  0\n",
       "2  0  0  1\n",
       "3  0  0  1\n",
       "4  0  1  0\n",
       "5  0  1  0\n",
       "6  0  0  1"
      ]
     },
     "execution_count": 33,
     "metadata": {},
     "output_type": "execute_result"
    }
   ],
   "source": [
    "quant = pd.get_dummies(dummy_df['B'])\n",
    "quant"
   ]
  },
  {
   "cell_type": "code",
   "execution_count": 34,
   "metadata": {},
   "outputs": [
    {
     "data": {
      "text/html": [
       "<div>\n",
       "<style scoped>\n",
       "    .dataframe tbody tr th:only-of-type {\n",
       "        vertical-align: middle;\n",
       "    }\n",
       "\n",
       "    .dataframe tbody tr th {\n",
       "        vertical-align: top;\n",
       "    }\n",
       "\n",
       "    .dataframe thead th {\n",
       "        text-align: right;\n",
       "    }\n",
       "</style>\n",
       "<table border=\"1\" class=\"dataframe\">\n",
       "  <thead>\n",
       "    <tr style=\"text-align: right;\">\n",
       "      <th></th>\n",
       "      <th>A</th>\n",
       "      <th>C</th>\n",
       "      <th>D</th>\n",
       "      <th>E</th>\n",
       "      <th>ans</th>\n",
       "      <th>K</th>\n",
       "      <th>L</th>\n",
       "      <th>M</th>\n",
       "    </tr>\n",
       "  </thead>\n",
       "  <tbody>\n",
       "    <tr>\n",
       "      <td>0</td>\n",
       "      <td>1.00</td>\n",
       "      <td>3</td>\n",
       "      <td>9</td>\n",
       "      <td>43.76</td>\n",
       "      <td>1</td>\n",
       "      <td>1</td>\n",
       "      <td>0</td>\n",
       "      <td>0</td>\n",
       "    </tr>\n",
       "    <tr>\n",
       "      <td>1</td>\n",
       "      <td>0.99</td>\n",
       "      <td>3</td>\n",
       "      <td>8</td>\n",
       "      <td>43.45</td>\n",
       "      <td>0</td>\n",
       "      <td>0</td>\n",
       "      <td>1</td>\n",
       "      <td>0</td>\n",
       "    </tr>\n",
       "    <tr>\n",
       "      <td>2</td>\n",
       "      <td>0.54</td>\n",
       "      <td>0</td>\n",
       "      <td>23</td>\n",
       "      <td>54.65</td>\n",
       "      <td>1</td>\n",
       "      <td>0</td>\n",
       "      <td>0</td>\n",
       "      <td>1</td>\n",
       "    </tr>\n",
       "    <tr>\n",
       "      <td>3</td>\n",
       "      <td>1.00</td>\n",
       "      <td>0</td>\n",
       "      <td>12</td>\n",
       "      <td>40.15</td>\n",
       "      <td>0</td>\n",
       "      <td>0</td>\n",
       "      <td>0</td>\n",
       "      <td>1</td>\n",
       "    </tr>\n",
       "    <tr>\n",
       "      <td>4</td>\n",
       "      <td>0.32</td>\n",
       "      <td>1</td>\n",
       "      <td>12</td>\n",
       "      <td>89.04</td>\n",
       "      <td>1</td>\n",
       "      <td>0</td>\n",
       "      <td>1</td>\n",
       "      <td>0</td>\n",
       "    </tr>\n",
       "    <tr>\n",
       "      <td>5</td>\n",
       "      <td>0.43</td>\n",
       "      <td>4</td>\n",
       "      <td>11</td>\n",
       "      <td>49.04</td>\n",
       "      <td>0</td>\n",
       "      <td>0</td>\n",
       "      <td>1</td>\n",
       "      <td>0</td>\n",
       "    </tr>\n",
       "    <tr>\n",
       "      <td>6</td>\n",
       "      <td>0.99</td>\n",
       "      <td>1</td>\n",
       "      <td>10</td>\n",
       "      <td>34.54</td>\n",
       "      <td>0</td>\n",
       "      <td>0</td>\n",
       "      <td>0</td>\n",
       "      <td>1</td>\n",
       "    </tr>\n",
       "  </tbody>\n",
       "</table>\n",
       "</div>"
      ],
      "text/plain": [
       "      A  C   D      E  ans  K  L  M\n",
       "0  1.00  3   9  43.76    1  1  0  0\n",
       "1  0.99  3   8  43.45    0  0  1  0\n",
       "2  0.54  0  23  54.65    1  0  0  1\n",
       "3  1.00  0  12  40.15    0  0  0  1\n",
       "4  0.32  1  12  89.04    1  0  1  0\n",
       "5  0.43  4  11  49.04    0  0  1  0\n",
       "6  0.99  1  10  34.54    0  0  0  1"
      ]
     },
     "execution_count": 34,
     "metadata": {},
     "output_type": "execute_result"
    }
   ],
   "source": [
    "dummy_df = dummy_df.drop('B', axis=1)\n",
    "# dummy_df['K'] = quant['K']\n",
    "# dummy_df['L'] = quant['L']\n",
    "# dummy_df['M'] = quant['M']\n",
    "dummy_df = pd.concat((dummy_df, quant), axis=1)\n",
    "dummy_df"
   ]
  },
  {
   "cell_type": "markdown",
   "metadata": {},
   "source": [
    "### Clustering Experiment\n",
    "\n",
    "#### TODO: look at silouhette scores, and do other way around (for plotting)"
   ]
  },
  {
   "cell_type": "code",
   "execution_count": 35,
   "metadata": {},
   "outputs": [
    {
     "name": "stderr",
     "output_type": "stream",
     "text": [
      "/opt/conda/lib/python3.7/site-packages/sklearn/decomposition/nmf.py:1035: ConvergenceWarning: Maximum number of iteration 200 reached. Increase it to improve convergence.\n",
      "  \" improve convergence.\" % max_iter, ConvergenceWarning)\n"
     ]
    },
    {
     "data": {
      "text/plain": [
       "2    0.491429\n",
       "3    0.594286\n",
       "4    0.651429\n",
       "5    0.608571\n",
       "6    0.551429\n",
       "7    0.517143\n",
       "Name: My NMF - Cluster Acc for Dim, dtype: float64"
      ]
     },
     "metadata": {},
     "output_type": "display_data"
    },
    {
     "data": {
      "text/plain": [
       "2    0.500000\n",
       "3    0.508571\n",
       "4    0.537143\n",
       "5    0.522857\n",
       "6    0.568571\n",
       "7    0.571429\n",
       "Name: NMF - Cluster Acc for Dim, dtype: float64"
      ]
     },
     "metadata": {},
     "output_type": "display_data"
    },
    {
     "data": {
      "text/plain": [
       "<matplotlib.axes._subplots.AxesSubplot at 0x7f591a67ce80>"
      ]
     },
     "execution_count": 35,
     "metadata": {},
     "output_type": "execute_result"
    },
    {
     "data": {
      "image/png": "[encoded data removed]",
      "text/plain": [
       "<Figure size 432x288 with 1 Axes>"
      ]
     },
     "metadata": {
      "needs_background": "light"
     },
     "output_type": "display_data"
    }
   ],
   "source": [
    "X = dummy_df.drop('ans', axis=1)\n",
    "y = dummy_df['ans']\n",
    "total_dim = len(X.columns)\n",
    "\n",
    "avg_label_accs_my_nmf, avg_label_accs_nmf, avg_label_accs_pca = [], [], []\n",
    "num_iter = 50\n",
    "\n",
    "for _ in range(num_iter):\n",
    "    label_accs_my_nmf, label_accs_nmf, label_accs_pca = [], [], []\n",
    "    \n",
    "    for dim_num in range(2, total_dim + 1):\n",
    "        # Run NMF to reduce dimensions of dataset\n",
    "#         _, trans_vals_my_nmf = my_nmf(X, n_components=dim_num)\n",
    "        my_nmf = OurNMF(n_components=dim_num)\n",
    "        trans_vals_my_nmf = my_nmf.fit_transform(X)\n",
    "    #     print('Transformed values for', dim_num, 'dimensions:\\n', trans_vals)\n",
    "\n",
    "        # Default NMF\n",
    "    #     nmf = NMF(n_components=dim_num)\n",
    "        # NMF that matches mine: KL-NMF w/ mu\n",
    "        nmf = NMF(n_components=dim_num, init='random', solver='mu', beta_loss='kullback-leibler')\n",
    "        trans_vals_nmf = nmf.fit_transform(X)\n",
    "        \n",
    "#         pca = PCA(n_components=dim_num)\n",
    "#         trans_vals_pca = pca.fit_transform(X)\n",
    "\n",
    "        kmeans = KMeans(n_clusters=2)\n",
    "\n",
    "        kmeans.fit(trans_vals_my_nmf)\n",
    "        clusters_my_nmf = pd.Series(kmeans.labels_)\n",
    "        kmeans.fit(trans_vals_nmf)\n",
    "        clusters_nmf = pd.Series(kmeans.labels_)\n",
    "    #     kmeans.fit(trans_vals_pca)\n",
    "    #     clusters_pca = pd.Series(kmeans.labels_)\n",
    "\n",
    "#         if dim_num == 3:\n",
    "#             print('My NMF TransVals:\\n', trans_vals_my_nmf)\n",
    "#             print('NMF TransVals:\\n', trans_vals_nmf)\n",
    "    #         print('My NMF Clusters:\\n', clusters_my_nmf)\n",
    "    #         print('NMF Clusters:\\n', clusters_nmf)\n",
    "    #         print('Real Labels:\\n', y)\n",
    "\n",
    "        acc_my_nmf = accuracy_score(y, clusters_my_nmf)\n",
    "        label_accs_my_nmf.append(acc_my_nmf)\n",
    "        acc_nmf = accuracy_score(y, clusters_nmf)\n",
    "        label_accs_nmf.append(acc_nmf)\n",
    "    #     acc_pca = accuracy_score(y, clusters_pca)\n",
    "    #     label_accs_pca.append(acc_pca)\n",
    "    \n",
    "    avg_label_accs_my_nmf.append(label_accs_my_nmf)\n",
    "    avg_label_accs_nmf.append(label_accs_nmf)\n",
    "    # avg_label_accs_pca.append(label_accs_pca)\n",
    "\n",
    "avg_label_accs_my_nmf = np.mean(np.array(avg_label_accs_my_nmf), axis=0)\n",
    "avg_label_accs_nmf = np.mean(np.array(avg_label_accs_nmf), axis=0)\n",
    "# avg_label_accs_pca = np.mean(np.array(avg_label_accs_pca), axis=0)\n",
    "\n",
    "accuracies_my_nmf = pd.Series(avg_label_accs_my_nmf, index=range(2, total_dim + 1), name='My NMF - Cluster Acc for Dim')\n",
    "accuracies_nmf = pd.Series(avg_label_accs_nmf, index=range(2, total_dim + 1), name='NMF - Cluster Acc for Dim')\n",
    "# accuracies_pca = pd.Series(avg_label_accs_pca, index=range(2, total_dim + 1), name='PCA - Cluster Acc for Dim')\n",
    "display(accuracies_my_nmf, accuracies_nmf)\n",
    "accuracies_my_nmf.plot.line(legend=True)\n",
    "accuracies_nmf.plot.line(legend=True)\n",
    "# accuracies_pca.plot.line(legend=True)"
   ]
  },
  {
   "cell_type": "code",
   "execution_count": 23,
   "metadata": {},
   "outputs": [
    {
     "data": {
      "text/plain": [
       "['A', 'C', 'D', 'E', 'K', 'L', 'M']"
      ]
     },
     "execution_count": 23,
     "metadata": {},
     "output_type": "execute_result"
    }
   ],
   "source": [
    "# list(X.columns)"
   ]
  },
  {
   "cell_type": "code",
   "execution_count": 51,
   "metadata": {},
   "outputs": [
    {
     "data": {
      "text/plain": [
       "array([[0.41009287, 0.31644251],\n",
       "       [0.90258449, 0.2107958 ],\n",
       "       [0.02676559, 0.66586028]])"
      ]
     },
     "execution_count": 51,
     "metadata": {},
     "output_type": "execute_result"
    }
   ],
   "source": [
    "# np.random.rand(3,2)"
   ]
  },
  {
   "cell_type": "code",
   "execution_count": null,
   "metadata": {},
   "outputs": [],
   "source": []
  }
 ],
 "metadata": {
  "kernelspec": {
   "display_name": "Python 3",
   "language": "python",
   "name": "python3"
  },
  "language_info": {
   "codemirror_mode": {
    "name": "ipython",
    "version": 3
   },
   "file_extension": ".py",
   "mimetype": "text/x-python",
   "name": "python",
   "nbconvert_exporter": "python",
   "pygments_lexer": "ipython3",
   "version": "3.7.3"
  }
 },
 "nbformat": 4,
 "nbformat_minor": 4
}
